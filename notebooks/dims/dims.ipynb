{
 "cells": [
  {
   "cell_type": "code",
   "execution_count": 1,
   "metadata": {},
   "outputs": [],
   "source": [
    "import numpy as np\n",
    "%matplotlib inline\n",
    "import matplotlib.pyplot as plt\n",
    "from sklearn.decomposition import PCA\n",
    "from sklearn.manifold import TSNE\n",
    "from sklearn import datasets\n",
    "import warnings"
   ]
  },
  {
   "cell_type": "markdown",
   "metadata": {},
   "source": [
    "# [Методы снижения размерности](https://ru.wikipedia.org/wiki/%D0%A1%D0%BD%D0%B8%D0%B6%D0%B5%D0%BD%D0%B8%D0%B5_%D1%80%D0%B0%D0%B7%D0%BC%D0%B5%D1%80%D0%BD%D0%BE%D1%81%D1%82%D0%B8)"
   ]
  },
  {
   "cell_type": "markdown",
   "metadata": {},
   "source": [
    "**Почему нужно снижать размерность?**\n",
    "\n",
    "Потому что пространство признаков может содержать слишком много данных, что затрудняет постороение моделей. Примеры таких пространств мы видели в результате работы методов векторизации текстов CountVectorizer и TfidfVectorizer.\n",
    "\n",
    "**Чем снижение размерности отличается от [конструирования признаков?](https://ru.wikipedia.org/wiki/%D0%9A%D0%BE%D0%BD%D1%81%D1%82%D1%80%D1%83%D0%B8%D1%80%D0%BE%D0%B2%D0%B0%D0%BD%D0%B8%D0%B5_%D0%BF%D1%80%D0%B8%D0%B7%D0%BD%D0%B0%D0%BA%D0%BE%D0%B2)**\n",
    "\n",
    "При конструировании признаков новые признаки, как правило, создаются исходя из семантики предметной области и могут быть интерперетированы с точки зрения предметной области.\n",
    "\n",
    "При снижении размерности новые признаки генерируются на основе статистических методов и, как правило, теряют семантику, то есть не могут быть ассоциированы с какими-либо объектами или процессами предметной области. Но при этом они сохраняют статистические зависимости исходных признаков и могут быть использованы для построения моделей машинного обучения.\n",
    "\n"
   ]
  },
  {
   "cell_type": "markdown",
   "metadata": {},
   "source": [
    "## [Метод главных компонент](https://ru.wikipedia.org/wiki/%D0%9C%D0%B5%D1%82%D0%BE%D0%B4_%D0%B3%D0%BB%D0%B0%D0%B2%D0%BD%D1%8B%D1%85_%D0%BA%D0%BE%D0%BC%D0%BF%D0%BE%D0%BD%D0%B5%D0%BD%D1%82)\n",
    "\n",
    "Название на английском языке - Principal Component Analysis (PCA).\n",
    "\n",
    "Метод главных компонент (МГК) остается одним из наиболее применяемых методов снижения размерности.\n",
    "\n",
    "Интуиция метода изложена в работах Александра Ивановича Орлова [1]:\n",
    "- Идея МГК состоит в последовательном выявлении направлений, в которых данные имеют наибольший разброс. \n",
    "- Прежде всего находят направление максимального разброса, при котором достигает максимума дисперсия случайной величины.\n",
    "- Затем рассматривают гиперплоскость в n-мерном пространстве, перпендикулярную первой главной компоненте, и проектируют на эту гиперплоскость все элементы выборки. Размерность гиперплоскости на 1 меньше, чем размерность исходного пространства. \n",
    "- В рассматриваемой гиперплоскости процедура повторяется. В ней находят направление наибольшего разброса, т.е. вторую главную компоненту. Затем выделяют гиперплоскость, перпендикулярную первым двум главным компонентам. Ее размерность на 2 меньше, чем размерность исходного пространства. \n",
    "- Далее действия повторяются пока не выделены К требуемых главных компонент.\n"
   ]
  },
  {
   "cell_type": "markdown",
   "metadata": {},
   "source": [
    "Метод главных компонент наиболее часто формулируется в терминах линейной алгебры.\n",
    "\n",
    "Важным является понятие [ковариационной матрицы.](https://ru.wikipedia.org/wiki/%D0%9A%D0%BE%D0%B2%D0%B0%D1%80%D0%B8%D0%B0%D1%86%D0%B8%D0%BE%D0%BD%D0%BD%D0%B0%D1%8F_%D0%BC%D0%B0%D1%82%D1%80%D0%B8%D1%86%D0%B0)\n",
    "\n",
    "Вычисление главных компонент может быть сведено к вычислению [сингулярного разложения](https://ru.wikipedia.org/wiki/%D0%A1%D0%B8%D0%BD%D0%B3%D1%83%D0%BB%D1%8F%D1%80%D0%BD%D0%BE%D0%B5_%D1%80%D0%B0%D0%B7%D0%BB%D0%BE%D0%B6%D0%B5%D0%BD%D0%B8%D0%B5) матрицы данных или к вычислению [собственных векторов и собственных значений](https://ru.wikipedia.org/wiki/%D0%A1%D0%BE%D0%B1%D1%81%D1%82%D0%B2%D0%B5%D0%BD%D0%BD%D1%8B%D0%B9_%D0%B2%D0%B5%D0%BA%D1%82%D0%BE%D1%80) ковариационной матрицы данных.\n",
    "\n",
    "Связь между SVD и PCA детально рассмотрена в статье [Machine Learning — Singular Value Decomposition (SVD) & Principal Component Analysis (PCA)](https://medium.com/@jonathan_hui/machine-learning-singular-value-decomposition-svd-principal-component-analysis-pca-1d45e885e491) а также в [документации scikit-learn.](https://scikit-learn.org/stable/modules/decomposition.html#lsa)"
   ]
  },
  {
   "cell_type": "markdown",
   "metadata": {},
   "source": [
    "В библиотеке scikit-learn метод главных компонент и его модификации рассмотрены в разделе [2.5. Decomposing signals in components (matrix factorization problems)](https://scikit-learn.org/stable/modules/decomposition.html)\n",
    "\n",
    "[Описание основного класса,](https://scikit-learn.org/stable/modules/generated/sklearn.decomposition.PCA.html) реализующего метод главных компонент.\n",
    "\n",
    "Рассмотрим примеры снижения размерности на основе метода главных компонент."
   ]
  },
  {
   "cell_type": "code",
   "execution_count": 2,
   "metadata": {},
   "outputs": [
    {
     "data": {
      "text/plain": [
       "array([[-1.83120164,  2.95185814],\n",
       "       [-0.17650378,  2.22936562],\n",
       "       [-2.52117612,  2.71453894],\n",
       "       [-1.13880803,  1.48231246],\n",
       "       [ 0.28761926, -0.04553854],\n",
       "       [ 0.44160322,  0.65761433],\n",
       "       [-0.81119653,  1.25854161],\n",
       "       [-0.36387766,  0.81100797],\n",
       "       [-1.77718918,  2.34066738],\n",
       "       [-0.70966524,  0.25277676]])"
      ]
     },
     "execution_count": 2,
     "metadata": {},
     "output_type": "execute_result"
    }
   ],
   "source": [
    "#Источник - https://github.com/Yorko/mlcourse.ai/tree/master/jupyter_russian/topic07_unsupervised\n",
    "\n",
    "# np.random.multivariate_normal - генерация случайных чисел на основе нормального распределения\n",
    "# и заданных средних значений и ковариационной матрицы\n",
    "\n",
    "with warnings.catch_warnings(record=True):\n",
    "    np.random.seed(0)\n",
    "    mean = np.array([0.0, 0.0])\n",
    "    cov = np.array([[1.0, -1.0], \n",
    "                    [-2.0, 3.0]])\n",
    "    X1 = np.random.multivariate_normal(mean, cov, 300)\n",
    "X1[:10]"
   ]
  },
  {
   "cell_type": "code",
   "execution_count": 3,
   "metadata": {},
   "outputs": [
    {
     "name": "stdout",
     "output_type": "stream",
     "text": [
      "Доля объясненной дисперсии: [0.93905057 0.06094943]\n"
     ]
    }
   ],
   "source": [
    "pca = PCA()\n",
    "pca.fit(X1)\n",
    "print('Доля объясненной дисперсии: {}'.format(pca.explained_variance_ratio_))"
   ]
  },
  {
   "cell_type": "code",
   "execution_count": 4,
   "metadata": {},
   "outputs": [
    {
     "data": {
      "image/png": "[encoded data removed]",
      "text/plain": [
       "<Figure size 360x360 with 1 Axes>"
      ]
     },
     "metadata": {
      "needs_background": "light"
     },
     "output_type": "display_data"
    }
   ],
   "source": [
    "plt.figure(figsize=(5,5))\n",
    "plt.scatter(X1[:, 0], X1[:, 1], s=10, c='b')\n",
    "for l, v in zip(pca.explained_variance_ratio_, pca.components_):\n",
    "    d = 5 * np.sqrt(l) * v\n",
    "    plt.plot([0, d[0]], [0, d[1]], '-g', lw=3)\n",
    "plt.axis('equal')\n",
    "plt.show()"
   ]
  },
  {
   "cell_type": "code",
   "execution_count": 5,
   "metadata": {},
   "outputs": [
    {
     "data": {
      "image/png": "[encoded data removed]",
      "text/plain": [
       "<Figure size 360x360 with 1 Axes>"
      ]
     },
     "metadata": {
      "needs_background": "light"
     },
     "output_type": "display_data"
    }
   ],
   "source": [
    "# Мы хотим сохранить 85% дисперсии\n",
    "pca = PCA(0.85)\n",
    "X_reduced = pca.fit_transform(X1)\n",
    "\n",
    "# Строим проекции на главную компоненту\n",
    "X_new = pca.inverse_transform(X_reduced)\n",
    "\n",
    "plt.figure(figsize=(5,5))\n",
    "plt.scatter(X1[:, 0], X1[:, 1], s=5, c='b')\n",
    "plt.scatter(X_new[:, 0], X_new[:, 1], s=3, c='r')\n",
    "plt.axis('equal')\n",
    "plt.show()"
   ]
  },
  {
   "cell_type": "markdown",
   "metadata": {},
   "source": [
    "### Эксперимент с набором данных по ирисам:"
   ]
  },
  {
   "cell_type": "code",
   "execution_count": 6,
   "metadata": {},
   "outputs": [
    {
     "data": {
      "text/plain": [
       "array([[5.1, 3.5, 1.4, 0.2],\n",
       "       [4.9, 3. , 1.4, 0.2],\n",
       "       [4.7, 3.2, 1.3, 0.2],\n",
       "       [4.6, 3.1, 1.5, 0.2],\n",
       "       [5. , 3.6, 1.4, 0.2],\n",
       "       [5.4, 3.9, 1.7, 0.4],\n",
       "       [4.6, 3.4, 1.4, 0.3],\n",
       "       [5. , 3.4, 1.5, 0.2],\n",
       "       [4.4, 2.9, 1.4, 0.2],\n",
       "       [4.9, 3.1, 1.5, 0.1]])"
      ]
     },
     "execution_count": 6,
     "metadata": {},
     "output_type": "execute_result"
    }
   ],
   "source": [
    "iris = datasets.load_iris()\n",
    "iris_X, iris_y = iris.data, iris.target\n",
    "iris_X[:10]"
   ]
  },
  {
   "cell_type": "code",
   "execution_count": 7,
   "metadata": {},
   "outputs": [
    {
     "name": "stdout",
     "output_type": "stream",
     "text": [
      "Доля объясненной дисперсии: [0.92461872 0.05306648], сумма=0.9776852063187949\n"
     ]
    },
    {
     "data": {
      "text/plain": [
       "array([[-2.68412563,  0.31939725],\n",
       "       [-2.71414169, -0.17700123],\n",
       "       [-2.88899057, -0.14494943],\n",
       "       [-2.74534286, -0.31829898],\n",
       "       [-2.72871654,  0.32675451],\n",
       "       [-2.28085963,  0.74133045],\n",
       "       [-2.82053775, -0.08946138],\n",
       "       [-2.62614497,  0.16338496],\n",
       "       [-2.88638273, -0.57831175],\n",
       "       [-2.6727558 , -0.11377425]])"
      ]
     },
     "execution_count": 7,
     "metadata": {},
     "output_type": "execute_result"
    }
   ],
   "source": [
    "pca = PCA(n_components=2)\n",
    "X_reduced = pca.fit_transform(iris_X)\n",
    "print('Доля объясненной дисперсии: {}, сумма={}'.format(pca.explained_variance_ratio_, np.sum(pca.explained_variance_ratio_)))\n",
    "X_reduced[:10]"
   ]
  },
  {
   "cell_type": "code",
   "execution_count": 8,
   "metadata": {},
   "outputs": [
    {
     "data": {
      "image/png": "[encoded data removed]",
      "text/plain": [
       "<Figure size 504x216 with 1 Axes>"
      ]
     },
     "metadata": {
      "needs_background": "light"
     },
     "output_type": "display_data"
    }
   ],
   "source": [
    "plt.figure(figsize=(7,3))\n",
    "plt.scatter(X_reduced[:, 0], X_reduced[:, 1], s=5, c=iris_y)\n",
    "plt.axis('equal')\n",
    "plt.show()"
   ]
  },
  {
   "cell_type": "markdown",
   "metadata": {},
   "source": [
    "## Методы снижения размерности (до размерности 2)\n",
    "\n",
    "Часто применяются на практике для визуализации многомерных данных. Наиболее известным является алгоритм [t-distributed Stochastic Neighbor Embedding, t-SNE.](https://ru.wikipedia.org/wiki/%D0%A1%D1%82%D0%BE%D1%85%D0%B0%D1%81%D1%82%D0%B8%D1%87%D0%B5%D1%81%D0%BA%D0%BE%D0%B5_%D0%B2%D0%BB%D0%BE%D0%B6%D0%B5%D0%BD%D0%B8%D0%B5_%D1%81%D0%BE%D1%81%D0%B5%D0%B4%D0%B5%D0%B9_%D1%81_t-%D1%80%D0%B0%D1%81%D0%BF%D1%80%D0%B5%D0%B4%D0%B5%D0%BB%D0%B5%D0%BD%D0%B8%D0%B5%D0%BC)\n",
    "\n",
    "Рассмотрим работу метода на основе статьи [Алгоритм t-SNE. Иллюстрированный вводный курс.](http://datareview.info/article/algoritm-t-sne-illyustrirovannyiy-vvodnyiy-kurs/)"
   ]
  },
  {
   "cell_type": "markdown",
   "metadata": {},
   "source": [
    "В библиотеке scikit-learn метод реализован с использованием класса [sklearn.manifold.TSNE](https://scikit-learn.org/stable/modules/generated/sklearn.manifold.TSNE.html)\n",
    "\n",
    "### Эксперимент с набором данных по ирисам:"
   ]
  },
  {
   "cell_type": "code",
   "execution_count": 9,
   "metadata": {},
   "outputs": [
    {
     "data": {
      "text/plain": [
       "array([[-11.067923 , -22.283087 ],\n",
       "       [-11.5995035, -19.70748  ],\n",
       "       [-10.444678 , -19.758066 ],\n",
       "       [-10.742284 , -19.350029 ],\n",
       "       [-10.610111 , -22.362768 ],\n",
       "       [-10.57011  , -24.231495 ],\n",
       "       [ -9.980202 , -20.065914 ],\n",
       "       [-10.991919 , -21.554623 ],\n",
       "       [-10.710452 , -18.616665 ],\n",
       "       [-11.448912 , -20.13885  ]], dtype=float32)"
      ]
     },
     "execution_count": 9,
     "metadata": {},
     "output_type": "execute_result"
    }
   ],
   "source": [
    "tsne = TSNE(n_components=2)\n",
    "X_embedded = tsne.fit_transform(iris_X)\n",
    "X_embedded[:10]"
   ]
  },
  {
   "cell_type": "code",
   "execution_count": 10,
   "metadata": {},
   "outputs": [
    {
     "data": {
      "image/png": "[encoded data removed]",
      "text/plain": [
       "<Figure size 216x360 with 1 Axes>"
      ]
     },
     "metadata": {
      "needs_background": "light"
     },
     "output_type": "display_data"
    }
   ],
   "source": [
    "plt.figure(figsize=(3,5))\n",
    "plt.scatter(X_embedded[:, 0], X_embedded[:, 1], s=5, c=iris_y)\n",
    "plt.axis('equal')\n",
    "plt.show()"
   ]
  },
  {
   "cell_type": "markdown",
   "metadata": {},
   "source": [
    "# Источники\n",
    "\n",
    "## Книги\n",
    "1. Орлов А.И. Прикладная статистика. М.: Издательство «Экзамен», 2004.\n",
    "1. Жерон О. Прикладное  машинное  обучение  с  помощью  Scikit-Learn  и  TensorFlow: концепции,  инструменты и техники для создания  интеллектуальных систем. СпБ.: ООО Альфа-книга: 2018.\n",
    "\n",
    "## Статьи\n",
    "- [Открытый курс по машинному обучению. Тема 7. Обучение без учителя](https://github.com/Yorko/mlcourse.ai/blob/master/jupyter_russian/topic07_unsupervised/lesson7_part1_PCA.ipynb)\n",
    "- [Как работает метод главных компонент (PCA) на простом примере](https://habr.com/ru/post/304214/)\n",
    "- [Machine Learning — Singular Value Decomposition (SVD) & Principal Component Analysis (PCA)](https://medium.com/@jonathan_hui/machine-learning-singular-value-decomposition-svd-principal-component-analysis-pca-1d45e885e491)\n",
    "- [Введение в t-SNE](https://habr.com/ru/post/267041/)\n",
    "- [Алгоритм t-SNE. Иллюстрированный вводный курс](http://datareview.info/article/algoritm-t-sne-illyustrirovannyiy-vvodnyiy-kurs/)\n"
   ]
  }
 ],
 "metadata": {
  "kernelspec": {
   "display_name": "Python 3 (ipykernel)",
   "language": "python",
   "name": "python3"
  },
  "language_info": {
   "codemirror_mode": {
    "name": "ipython",
    "version": 3
   },
   "file_extension": ".py",
   "mimetype": "text/x-python",
   "name": "python",
   "nbconvert_exporter": "python",
   "pygments_lexer": "ipython3",
   "version": "3.9.7"
  },
  "toc": {
   "base_numbering": 1,
   "nav_menu": {},
   "number_sections": true,
   "sideBar": true,
   "skip_h1_title": false,
   "title_cell": "Table of Contents",
   "title_sidebar": "Contents",
   "toc_cell": false,
   "toc_position": {},
   "toc_section_display": true,
   "toc_window_display": true
  }
 },
 "nbformat": 4,
 "nbformat_minor": 4
}
