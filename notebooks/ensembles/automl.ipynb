{
 "cells": [
  {
   "cell_type": "markdown",
   "metadata": {},
   "source": [
    "# [Automated machine learning - AutoML](https://ru.wikipedia.org/wiki/%D0%90%D0%B2%D1%82%D0%BE%D0%BC%D0%B0%D1%82%D0%B8%D1%87%D0%B5%D1%81%D0%BA%D0%BE%D0%B5_%D0%BE%D0%B1%D1%83%D1%87%D0%B5%D0%BD%D0%B8%D0%B5_%D0%BC%D0%B0%D1%88%D0%B8%D0%BD)\n",
    "\n",
    "### Определение из Википедии:\n",
    "\n",
    "Автоматическое обучение машин (AutoML) — это процесс автоматизации сквозного процесса применения обучения машины к задачам реального мира. В типичном приложении обучения машины практический работник должен применить подходящие методы предварительной обработки данных, конструирования признаков, выделения признаков и выбора признаков, которые делают набор данных пригодным для обучения машин. После этих шагов работник должен осуществить выбор алгоритма и оптимизацию гиперпараметров для максимизации прогнозируемой производительности конечной модели обучения машин. Поскольку многие из этих шагов не могут осуществить люди, не будучи экспертами, был предложен AutoML как основанное на искусственном интеллекте решение для всё возрастающей необходимости применения обучения машин. Автоматизация сквозного процесса применения обучения машин даёт преимущество получения более простых решений, более быстрого создания таких решений и моделей, которые часто превосходят модели, построенные вручную. \n",
    "\n",
    "Наиболее часто используется библиотека [TPOT.](https://github.com/EpistasisLab/tpot)\n",
    "\n",
    "**Внимание:** при использовании windows TPOT иногда приводит к разрушению дистрибутива anaconda.\n",
    "\n",
    "\n",
    "[Сравнение](https://towardsdatascience.com/compare-popular-automl-frameworks-on-10-tabular-kaggle-competitions-9b1420e8942d) некоторых существующих библиотек:\n",
    "\n",
    "- [mljar](https://github.com/mljar/mljar-supervised)\n",
    "- [autogluon](https://auto.gluon.ai/stable/index.html)\n",
    "- [auto-sklearn](https://www.automl.org/automl/auto-sklearn/)\n",
    "\n",
    "\n",
    "## Дополнительные источники (по AutoML)\n",
    "- [7 фреймворков автоматического машинного обучения](https://proglib.io/p/auto-ml)\n",
    "- [Что такое автоматизированное машинное обучение (AutoML)](https://habr.com/ru/post/449260/)\n",
    "- [AutoML is Overhyped](https://towardsdatascience.com/automl-is-overhyped-1b5511ded65f)"
   ]
  },
  {
   "cell_type": "code",
   "execution_count": null,
   "metadata": {},
   "outputs": [],
   "source": []
  }
 ],
 "metadata": {
  "kernelspec": {
   "display_name": "Python 3 (ipykernel)",
   "language": "python",
   "name": "python3"
  },
  "language_info": {
   "codemirror_mode": {
    "name": "ipython",
    "version": 3
   },
   "file_extension": ".py",
   "mimetype": "text/x-python",
   "name": "python",
   "nbconvert_exporter": "python",
   "pygments_lexer": "ipython3",
   "version": "3.9.7"
  },
  "toc": {
   "base_numbering": 1,
   "nav_menu": {},
   "number_sections": true,
   "sideBar": true,
   "skip_h1_title": false,
   "title_cell": "Table of Contents",
   "title_sidebar": "Contents",
   "toc_cell": false,
   "toc_position": {},
   "toc_section_display": true,
   "toc_window_display": true
  }
 },
 "nbformat": 4,
 "nbformat_minor": 4
}
