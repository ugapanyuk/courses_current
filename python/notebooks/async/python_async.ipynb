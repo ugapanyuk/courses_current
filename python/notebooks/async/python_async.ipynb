{
 "cells": [
  {
   "cell_type": "markdown",
   "metadata": {},
   "source": [
    "# Основы асинхронного программирования в Python\n",
    "\n",
    "Для асинхронного программирования используется библиотека [asyncio](https://docs.python.org/3/library/asyncio.html).\n",
    "\n",
    "Статьи на русском языке:\n",
    "* [AsyncIO для практикующего python-разработчика.](https://habr.com/ru/post/337420/)\n",
    "* [Асинхронность в Python.](https://botfather.dev/blog/async-in-python)"
   ]
  },
  {
   "cell_type": "markdown",
   "metadata": {},
   "source": [
    "## Рассмотрим высокоуровневые механизмы асинхронного программирования\n",
    "\n",
    "* [https://docs.python.org/3/library/asyncio-task.html](https://docs.python.org/3/library/asyncio-task.html)"
   ]
  },
  {
   "cell_type": "code",
   "execution_count": 1,
   "metadata": {},
   "outputs": [],
   "source": [
    "import asyncio\n",
    "import time\n",
    "\n",
    "async def say_after(delay, what):\n",
    "    '''\n",
    "    Это корутина\n",
    "    '''\n",
    "    await asyncio.sleep(delay)\n",
    "    print(f'{what} - текущее время {time.strftime(\"%X\")}')"
   ]
  },
  {
   "cell_type": "code",
   "execution_count": 2,
   "metadata": {},
   "outputs": [],
   "source": [
    "# Объявлена функция\n",
    "say_after"
   ]
  },
  {
   "cell_type": "code",
   "execution_count": 3,
   "metadata": {},
   "outputs": [],
   "source": [
    "# но в результате ее вызова\n",
    "# возвращается корутина\n",
    "say_after(1, 'hello')"
   ]
  },
  {
   "cell_type": "code",
   "execution_count": 4,
   "metadata": {},
   "outputs": [
    {
     "name": "stdout",
     "output_type": "stream",
     "text": [
      "hello - текущее время 07:59:22\n"
     ]
    }
   ],
   "source": [
    "# Для вызова корутины необходимо \n",
    "# использовать ключевое слово await\n",
    "await say_after(1, 'hello')"
   ]
  },
  {
   "cell_type": "code",
   "execution_count": 5,
   "metadata": {},
   "outputs": [
    {
     "name": "stdout",
     "output_type": "stream",
     "text": [
      "НАЧАЛО - текущее время 07:59:22\n",
      "hello - текущее время 07:59:25\n",
      "world - текущее время 07:59:28\n"
     ]
    }
   ],
   "source": [
    "async def main_seq():\n",
    "    print(f'НАЧАЛО - текущее время {time.strftime(\"%X\")}')\n",
    "    # Последовательный вызов корутин\n",
    "    await say_after(3, 'hello')\n",
    "    await say_after(3, 'world')\n",
    "\n",
    "await main_seq()\n",
    "\n",
    "# Этот метод не используется в ноутбуках\n",
    "# asyncio.run(main())"
   ]
  },
  {
   "cell_type": "code",
   "execution_count": 6,
   "metadata": {},
   "outputs": [
    {
     "name": "stdout",
     "output_type": "stream",
     "text": [
      "НАЧАЛО - текущее время 07:59:28\n",
      "hello - текущее время 07:59:31\n",
      "world - текущее время 07:59:31\n"
     ]
    }
   ],
   "source": [
    "async def main_task_1():\n",
    "    task1 = asyncio.create_task(\n",
    "        say_after(3, 'hello'))\n",
    "\n",
    "    task2 = asyncio.create_task(\n",
    "        say_after(3, 'world'))\n",
    "\n",
    "    print(f'НАЧАЛО - текущее время {time.strftime(\"%X\")}')\n",
    "    # Параллельный вызов task\n",
    "    await task1\n",
    "    await task2\n",
    "    \n",
    "await main_task_1()    "
   ]
  },
  {
   "cell_type": "code",
   "execution_count": 8,
   "metadata": {},
   "outputs": [
    {
     "name": "stdout",
     "output_type": "stream",
     "text": [
      "НАЧАЛО - текущее время 07:59:49\n",
      "hello - текущее время 07:59:52\n",
      "world - текущее время 07:59:52\n"
     ]
    }
   ],
   "source": [
    "async def main_task_2():\n",
    "    task1 = asyncio.create_task(\n",
    "        say_after(3, 'hello'))\n",
    "\n",
    "    task2 = asyncio.create_task(\n",
    "        say_after(3, 'world'))\n",
    "\n",
    "    print(f'НАЧАЛО - текущее время {time.strftime(\"%X\")}')\n",
    "    # Параллельный вызов task - корректный вариант с использованием asyncio.gather\n",
    "    asyncio.gather(task1, task2)\n",
    "    \n",
    "await main_task_2()    "
   ]
  },
  {
   "cell_type": "code",
   "execution_count": null,
   "metadata": {},
   "outputs": [],
   "source": []
  }
 ],
 "metadata": {
  "kernelspec": {
   "display_name": "Python 3",
   "language": "python",
   "name": "python3"
  },
  "language_info": {
   "codemirror_mode": {
    "name": "ipython",
    "version": 3
   },
   "file_extension": ".py",
   "mimetype": "text/x-python",
   "name": "python",
   "nbconvert_exporter": "python",
   "pygments_lexer": "ipython3",
   "version": "3.8.5"
  },
  "toc": {
   "base_numbering": 1,
   "nav_menu": {},
   "number_sections": true,
   "sideBar": true,
   "skip_h1_title": false,
   "title_cell": "Table of Contents",
   "title_sidebar": "Contents",
   "toc_cell": false,
   "toc_position": {},
   "toc_section_display": true,
   "toc_window_display": false
  }
 },
 "nbformat": 4,
 "nbformat_minor": 4
}
