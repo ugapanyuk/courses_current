{
 "cells": [
  {
   "cell_type": "markdown",
   "metadata": {},
   "source": [
    "# Параметры функций\n",
    "\n",
    "## Использование `*args`, и `**kwargs`.\n",
    "\n",
    "- `*args` - неименованные аргументы (arguments), для которых важен порядок передачи. Также используется название \"позиционные аргументы\".\n",
    "- `**kwargs` - именованные аргументы (keywords), для которых не важен порядок передачи. Также используется название \"аргументы, передаваемые по ключевым словам\". "
   ]
  },
  {
   "cell_type": "code",
   "execution_count": 1,
   "metadata": {},
   "outputs": [],
   "source": [
    "def test_args_kwargs(*args, **kwargs):\n",
    "    print('Arguments:')\n",
    "    for arg in args:\n",
    "        print(arg)\n",
    "    print('\\nKeywords:')\n",
    "    for key in kwargs:\n",
    "        print('{} = {}'.format(key, kwargs[key]))   "
   ]
  },
  {
   "cell_type": "code",
   "execution_count": 2,
   "metadata": {},
   "outputs": [],
   "source": [
    "test_args_kwargs(1,2,3,True, 'qwerty', \n",
    "                 param1=123, bool_param=True, str_param='string')"
   ]
  },
  {
   "cell_type": "code",
   "execution_count": 3,
   "metadata": {},
   "outputs": [],
   "source": [
    "args = (1,2,3,4,5)\n",
    "kwargs = {'key1':'value1', 'key2':'value2', 'key3':'value3'}\n",
    "test_args_kwargs(*args)"
   ]
  },
  {
   "cell_type": "code",
   "execution_count": 4,
   "metadata": {},
   "outputs": [
    {
     "name": "stdout",
     "output_type": "stream",
     "text": [
      "Arguments:\n",
      "(1, 2, 3, 4, 5)\n",
      "\n",
      "Keywords:\n"
     ]
    }
   ],
   "source": [
    "# Если забыли поставить * перед параметрами\n",
    "# они передаются как единый кортеж\n",
    "test_args_kwargs(args)"
   ]
  },
  {
   "cell_type": "code",
   "execution_count": 5,
   "metadata": {},
   "outputs": [
    {
     "name": "stdout",
     "output_type": "stream",
     "text": [
      "Arguments:\n",
      "{'key1': 'value1', 'key2': 'value2', 'key3': 'value3'}\n",
      "\n",
      "Keywords:\n"
     ]
    }
   ],
   "source": [
    "# Если забыли поставить ** перед параметрами\n",
    "# они передаются как единый словарь\n",
    "test_args_kwargs(kwargs)"
   ]
  },
  {
   "cell_type": "code",
   "execution_count": 6,
   "metadata": {},
   "outputs": [
    {
     "name": "stdout",
     "output_type": "stream",
     "text": [
      "Arguments:\n",
      "\n",
      "Keywords:\n",
      "key1 = value1\n",
      "key2 = value2\n",
      "key3 = value3\n"
     ]
    }
   ],
   "source": [
    "test_args_kwargs(**kwargs)"
   ]
  },
  {
   "cell_type": "code",
   "execution_count": 7,
   "metadata": {},
   "outputs": [
    {
     "name": "stdout",
     "output_type": "stream",
     "text": [
      "Arguments:\n",
      "1\n",
      "2\n",
      "3\n",
      "4\n",
      "5\n",
      "\n",
      "Keywords:\n",
      "key1 = value1\n",
      "key2 = value2\n",
      "key3 = value3\n"
     ]
    }
   ],
   "source": [
    "test_args_kwargs(*args, **kwargs)"
   ]
  },
  {
   "cell_type": "code",
   "execution_count": 8,
   "metadata": {},
   "outputs": [],
   "source": [
    "def test_args_kwargs_1(*args, **kwargs):\n",
    "    print('Arguments:')\n",
    "    for arg in args:\n",
    "        print(arg)\n",
    "    print('\\nKeywords:')\n",
    "    for k, v in kwargs.items():\n",
    "        print('{} = {}'.format(k, v))"
   ]
  },
  {
   "cell_type": "code",
   "execution_count": 9,
   "metadata": {},
   "outputs": [
    {
     "name": "stdout",
     "output_type": "stream",
     "text": [
      "Arguments:\n",
      "1\n",
      "2\n",
      "3\n",
      "True\n",
      "qwerty\n",
      "\n",
      "Keywords:\n",
      "param1 = 123\n",
      "bool_param = True\n",
      "str_param = string\n"
     ]
    }
   ],
   "source": [
    "test_args_kwargs_1(1,2,3,True, 'qwerty', param1=123, \n",
    "                   bool_param=True, str_param='string')"
   ]
  },
  {
   "cell_type": "code",
   "execution_count": 10,
   "metadata": {},
   "outputs": [],
   "source": [
    "# ОШИБКА\n",
    "# SyntaxError: positional argument follows keyword argument\n",
    "# test_args_kwargs(1,2,3,True, str_param='string', 'qwerty', param1=123, bool_param=True)"
   ]
  },
  {
   "cell_type": "code",
   "execution_count": 11,
   "metadata": {},
   "outputs": [],
   "source": [
    "# Названия *args, **kwargs не обязательны, \n",
    "# важно наличие * и ** перед именами параметров.\n",
    "def test_args_kwargs_2(*arguments, **keywords):\n",
    "    print(type(arguments), arguments)\n",
    "    print(type(keywords), keywords)"
   ]
  },
  {
   "cell_type": "code",
   "execution_count": 12,
   "metadata": {},
   "outputs": [
    {
     "name": "stdout",
     "output_type": "stream",
     "text": [
      "<class 'tuple'> (1, 2, 3, True, 'qwerty')\n",
      "<class 'dict'> {'param1': 123, 'bool_param': True, 'str_param': 'string'}\n"
     ]
    }
   ],
   "source": [
    "test_args_kwargs_2(1, 2, 3, True, 'qwerty', \n",
    "                   param1=123, bool_param=True, str_param='string')"
   ]
  },
  {
   "cell_type": "code",
   "execution_count": 13,
   "metadata": {},
   "outputs": [],
   "source": [
    "# Первые два аргумента связываются с p1 и p2, \n",
    "# а остальные доступны через *arguments\n",
    "def test_args_kwargs_3(p1, p2, *arguments, **keywords):\n",
    "    print(p1, p2)\n",
    "    print(type(arguments), arguments)\n",
    "    print(type(keywords), keywords)"
   ]
  },
  {
   "cell_type": "code",
   "execution_count": 14,
   "metadata": {},
   "outputs": [
    {
     "name": "stdout",
     "output_type": "stream",
     "text": [
      "1 2\n",
      "<class 'tuple'> (3, True, 'qwerty')\n",
      "<class 'dict'> {'param1': 123, 'bool_param': True, 'str_param': 'string'}\n"
     ]
    }
   ],
   "source": [
    "test_args_kwargs_3(1, 2, 3, True, 'qwerty', \n",
    "                   param1=123, bool_param=True, str_param='string')"
   ]
  },
  {
   "cell_type": "code",
   "execution_count": 15,
   "metadata": {},
   "outputs": [],
   "source": [
    "# Первые два именованных аргумента связываются с param1=0, param2=333\n",
    "# а остальные доступны через **keywords\n",
    "def test_args_kwargs_4(p1, p2, *arguments, \n",
    "                       param1=0, param2=333, **keywords):\n",
    "    print('p1 =', p1, 'p2 =', p2, \n",
    "          'param1 =', param1, 'param2 =', param2)\n",
    "    print(type(arguments), arguments)\n",
    "    print(type(keywords), keywords)"
   ]
  },
  {
   "cell_type": "code",
   "execution_count": 16,
   "metadata": {},
   "outputs": [
    {
     "name": "stdout",
     "output_type": "stream",
     "text": [
      "p1 = 1 p2 = 2 param1 = 123 param2 = 333\n",
      "<class 'tuple'> (3, True, 'qwerty')\n",
      "<class 'dict'> {'bool_param': True, 'str_param': 'string'}\n"
     ]
    }
   ],
   "source": [
    "test_args_kwargs_4(1, 2, 3, True, 'qwerty', \n",
    "                   param1=123, bool_param=True, str_param='string')"
   ]
  },
  {
   "cell_type": "code",
   "execution_count": 17,
   "metadata": {},
   "outputs": [
    {
     "name": "stdout",
     "output_type": "stream",
     "text": [
      "p1 = 2 p2 = 1 param1 = 124 param2 = 334\n",
      "<class 'tuple'> (3, True, 'qwerty')\n",
      "<class 'dict'> {'bool_param': True, 'str_param': 'string'}\n"
     ]
    }
   ],
   "source": [
    "# Изменим порядок указания параметров\n",
    "test_args_kwargs_4(2, 1, 3, True, 'qwerty', param2=334, param1=124, \n",
    "                   bool_param=True, str_param='string')"
   ]
  },
  {
   "cell_type": "code",
   "execution_count": 18,
   "metadata": {},
   "outputs": [
    {
     "name": "stdout",
     "output_type": "stream",
     "text": [
      "p1 = 2 p2 = 1 param1 = 124 param2 = 334\n",
      "<class 'tuple'> (3, True, 'qwerty')\n",
      "<class 'dict'> {'bool_param': True, 'str_param': 'string'}\n"
     ]
    }
   ],
   "source": [
    "# Для именованных аргументов порядок передачи неважен\n",
    "test_args_kwargs_4(2, 1, 3, True, 'qwerty', \n",
    "                   bool_param=True, str_param='string', \n",
    "                   param2=334, param1=124)"
   ]
  },
  {
   "cell_type": "code",
   "execution_count": 19,
   "metadata": {},
   "outputs": [],
   "source": [
    "# символ * разделяет позиционные и именованные аргументы\n",
    "\n",
    "# уже знакомый ранее пример\n",
    "def test1(a, *b, c, d):\n",
    "    print('a =', a)\n",
    "    print('b =', b)\n",
    "    print('c =', c)\n",
    "    print('d =', d)"
   ]
  },
  {
   "cell_type": "code",
   "execution_count": 20,
   "metadata": {},
   "outputs": [],
   "source": [
    "# TypeError: test1() missing 2 required keyword-only arguments: 'c' and 'd'\n",
    "# test1(1,2,3,4,5)"
   ]
  },
  {
   "cell_type": "code",
   "execution_count": 21,
   "metadata": {},
   "outputs": [
    {
     "name": "stdout",
     "output_type": "stream",
     "text": [
      "a = 1\n",
      "b = (2, 3, 4, 5)\n",
      "c = c_value\n",
      "d = d_value\n"
     ]
    }
   ],
   "source": [
    "test1(1,2,3,4,5, c='c_value', d='d_value')"
   ]
  },
  {
   "cell_type": "code",
   "execution_count": 22,
   "metadata": {},
   "outputs": [],
   "source": [
    "# теперь символ * стоит в списке аргументов отдельно\n",
    "def test2(a, b, *, c, d):\n",
    "    print('a =', a)\n",
    "    print('b =', b)\n",
    "    print('c =', c)\n",
    "    print('d =', d)"
   ]
  },
  {
   "cell_type": "code",
   "execution_count": 23,
   "metadata": {},
   "outputs": [],
   "source": [
    "# TypeError: test2() takes 2 positional arguments but 5 were given\n",
    "# test2(1,2,3,4,5)"
   ]
  },
  {
   "cell_type": "code",
   "execution_count": 24,
   "metadata": {},
   "outputs": [],
   "source": [
    "# TypeError: test2() missing 2 required keyword-only arguments: 'c' and 'd'\n",
    "# test2(1,2)"
   ]
  },
  {
   "cell_type": "code",
   "execution_count": 25,
   "metadata": {},
   "outputs": [
    {
     "name": "stdout",
     "output_type": "stream",
     "text": [
      "a = 1\n",
      "b = 2\n",
      "c = 3\n",
      "d = 4\n"
     ]
    }
   ],
   "source": [
    "# Если символ * стоит отдельно как аргумент в списке аргументов,\n",
    "# то он отделяет позиционные аргументы от именованных.\n",
    "# Слева от * стоит точное количество позиционных аргументов.\n",
    "# Справа от * стоит точное количество именованных аргументов.\n",
    "test2(1, 2, c=3, d=4)"
   ]
  },
  {
   "cell_type": "code",
   "execution_count": null,
   "metadata": {},
   "outputs": [],
   "source": []
  }
 ],
 "metadata": {
  "kernelspec": {
   "display_name": "Python 3",
   "language": "python",
   "name": "python3"
  },
  "language_info": {
   "codemirror_mode": {
    "name": "ipython",
    "version": 3
   },
   "file_extension": ".py",
   "mimetype": "text/x-python",
   "name": "python",
   "nbconvert_exporter": "python",
   "pygments_lexer": "ipython3",
   "version": "3.8.5"
  },
  "toc": {
   "base_numbering": 1,
   "nav_menu": {},
   "number_sections": true,
   "sideBar": true,
   "skip_h1_title": false,
   "title_cell": "Table of Contents",
   "title_sidebar": "Contents",
   "toc_cell": false,
   "toc_position": {},
   "toc_section_display": true,
   "toc_window_display": false
  }
 },
 "nbformat": 4,
 "nbformat_minor": 4
}
