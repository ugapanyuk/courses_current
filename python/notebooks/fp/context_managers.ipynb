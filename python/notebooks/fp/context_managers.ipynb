{
 "cells": [
  {
   "cell_type": "markdown",
   "metadata": {},
   "source": [
    "# Контекстные менеджеры\n",
    "\n",
    "Позволяют запускать код в контексте. \n",
    "\n",
    "При создании собственного контекстного менеджера возможно определить действия при входе в контекст и при выходе из контекста.\n",
    "\n",
    "Например, при входе в контекст - открытие файла, при выходе из контекста - закрытие файла.\n",
    "\n",
    "Существует два способа создания контекстного менеджера:\n",
    "- На основе класса.\n",
    "- С использованием библиотеки contextlib (конструкция yield).\n",
    "\n",
    "[Документация.](https://docs.python.org/3/library/contextlib.html)"
   ]
  },
  {
   "cell_type": "markdown",
   "metadata": {},
   "source": [
    "### Cоздание контекстного менеджера на основе класса"
   ]
  },
  {
   "cell_type": "code",
   "execution_count": 1,
   "metadata": {},
   "outputs": [],
   "source": [
    "class SimpleContextManager:\n",
    "\n",
    "    def __init__(self, before_mes, after_mes):\n",
    "        self.before_mes = before_mes\n",
    "        self.after_mes = after_mes\n",
    "        \n",
    "    def __enter__(self):\n",
    "        print(self.before_mes)\n",
    "        # Должен возвращаться значимый объект\n",
    "        # например, открытый файл\n",
    "        return 333\n",
    "        \n",
    "    def __exit__(self, exp_type, exp_value, traceback):\n",
    "        if exp_type is not None:\n",
    "            print(exp_type, exp_value, traceback)\n",
    "        else:\n",
    "            print(self.after_mes)"
   ]
  },
  {
   "cell_type": "code",
   "execution_count": 2,
   "metadata": {},
   "outputs": [
    {
     "name": "stdout",
     "output_type": "stream",
     "text": [
      "Сообщение при входе в контекстный менеджер\n",
      "333\n",
      "Сообщение при выходе из контекстного менеджера\n"
     ]
    }
   ],
   "source": [
    "before_mes = 'Сообщение при входе в контекстный менеджер'\n",
    "after_mes = 'Сообщение при выходе из контекстного менеджера'\n",
    "\n",
    "with SimpleContextManager(before_mes, after_mes) as cm_object:\n",
    "    print(cm_object)"
   ]
  },
  {
   "cell_type": "code",
   "execution_count": 3,
   "metadata": {},
   "outputs": [],
   "source": [
    "#with SimpleContextManager(before_mes, after_mes) as cm_object:\n",
    "#    print(1/0)"
   ]
  },
  {
   "cell_type": "code",
   "execution_count": 4,
   "metadata": {},
   "outputs": [
    {
     "name": "stdout",
     "output_type": "stream",
     "text": [
      "Сообщение при входе в контекстный менеджер\n",
      "<class 'ZeroDivisionError'> division by zero <traceback object at 0x000002225F283FC0>\n"
     ]
    }
   ],
   "source": [
    "# При использовании данного способа исключения нужно обрабатывать\n",
    "# снаружи контекстного менеджера\n",
    "try:\n",
    "    with SimpleContextManager(before_mes, after_mes) as cm_object:\n",
    "        print(1/0)\n",
    "except:\n",
    "    pass"
   ]
  },
  {
   "cell_type": "markdown",
   "metadata": {},
   "source": [
    "### Cоздание контекстного менеджера на основе библиотеки contextlib (конструкция yield)"
   ]
  },
  {
   "cell_type": "code",
   "execution_count": 5,
   "metadata": {},
   "outputs": [],
   "source": [
    "from contextlib import contextmanager"
   ]
  },
  {
   "cell_type": "code",
   "execution_count": 6,
   "metadata": {},
   "outputs": [],
   "source": [
    "@contextmanager\n",
    "def simple_context_manager(before_mes, after_mes):\n",
    "    print(before_mes)\n",
    "    yield 333\n",
    "    print(after_mes)"
   ]
  },
  {
   "cell_type": "code",
   "execution_count": 7,
   "metadata": {},
   "outputs": [
    {
     "name": "stdout",
     "output_type": "stream",
     "text": [
      "Сообщение при входе в контекстный менеджер\n",
      "333\n",
      "Сообщение при выходе из контекстного менеджера\n"
     ]
    }
   ],
   "source": [
    "with simple_context_manager(before_mes, after_mes) as cm_object:\n",
    "    print(cm_object)"
   ]
  },
  {
   "cell_type": "code",
   "execution_count": 8,
   "metadata": {},
   "outputs": [],
   "source": [
    "#with simple_context_manager(before_mes, after_mes) as cm_object:\n",
    "#    print(1/0)"
   ]
  },
  {
   "cell_type": "code",
   "execution_count": 9,
   "metadata": {},
   "outputs": [
    {
     "name": "stdout",
     "output_type": "stream",
     "text": [
      "Сообщение при входе в контекстный менеджер\n",
      "Сообщение при выходе из контекстного менеджера\n"
     ]
    }
   ],
   "source": [
    "# При использовании данного способа исключения нужно обрабатывать\n",
    "# внутри контекстного менеджера\n",
    "with simple_context_manager(before_mes, after_mes) as cm_object:\n",
    "    try:\n",
    "        print(1/0)\n",
    "    except:\n",
    "        pass"
   ]
  },
  {
   "cell_type": "code",
   "execution_count": null,
   "metadata": {},
   "outputs": [],
   "source": []
  }
 ],
 "metadata": {
  "kernelspec": {
   "display_name": "Python 3",
   "language": "python",
   "name": "python3"
  },
  "language_info": {
   "codemirror_mode": {
    "name": "ipython",
    "version": 3
   },
   "file_extension": ".py",
   "mimetype": "text/x-python",
   "name": "python",
   "nbconvert_exporter": "python",
   "pygments_lexer": "ipython3",
   "version": "3.8.5"
  },
  "toc": {
   "base_numbering": 1,
   "nav_menu": {},
   "number_sections": true,
   "sideBar": true,
   "skip_h1_title": false,
   "title_cell": "Table of Contents",
   "title_sidebar": "Contents",
   "toc_cell": false,
   "toc_position": {},
   "toc_section_display": true,
   "toc_window_display": false
  }
 },
 "nbformat": 4,
 "nbformat_minor": 4
}
