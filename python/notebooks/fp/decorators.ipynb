{
 "cells": [
  {
   "cell_type": "markdown",
   "metadata": {},
   "source": [
    "# Декораторы функций"
   ]
  },
  {
   "cell_type": "markdown",
   "metadata": {},
   "source": [
    "Механизм декораторов напоминает аннотации в языке C#. Но в C# аннотация являлась пассивной структурой, которая  \"приклеивалась\" к необходимому элементу и была доступна в откомпилированной сборке.\n",
    "\n",
    "Декоратор функции представляет собой функцию высшего порядка, и, в отличие от аннотации, выполняет необходимый код.\n",
    "\n",
    "Работа декораторов строится на том, что функция в Питоне является \"объектом первого порядка\" - ее можно вернуть из функции или передать в функцию."
   ]
  },
  {
   "cell_type": "code",
   "execution_count": 1,
   "metadata": {},
   "outputs": [],
   "source": [
    "def return_func():\n",
    "\n",
    "    def func_inside():\n",
    "        print(\"I'm inside\")\n",
    "\n",
    "    print(\"I'm outside\")\n",
    "    return func_inside"
   ]
  },
  {
   "cell_type": "code",
   "execution_count": 2,
   "metadata": {},
   "outputs": [
    {
     "name": "stdout",
     "output_type": "stream",
     "text": [
      "I'm outside\n"
     ]
    },
    {
     "data": {
      "text/plain": [
       "<function __main__.return_func.<locals>.func_inside()>"
      ]
     },
     "execution_count": 2,
     "metadata": {},
     "output_type": "execute_result"
    }
   ],
   "source": [
    "return_func()"
   ]
  },
  {
   "cell_type": "code",
   "execution_count": 3,
   "metadata": {},
   "outputs": [
    {
     "name": "stdout",
     "output_type": "stream",
     "text": [
      "I'm outside\n",
      "I'm inside\n"
     ]
    }
   ],
   "source": [
    "return_func()()"
   ]
  },
  {
   "cell_type": "code",
   "execution_count": 4,
   "metadata": {},
   "outputs": [
    {
     "name": "stdout",
     "output_type": "stream",
     "text": [
      "accept_func\n",
      "my_func\n"
     ]
    }
   ],
   "source": [
    "def accept_func(some_func):\n",
    "    print(\"accept_func\")\n",
    "    some_func()\n",
    "\n",
    "\n",
    "def my_func():\n",
    "    print(\"my_func\")\n",
    "\n",
    "\n",
    "accept_func(my_func)"
   ]
  },
  {
   "cell_type": "code",
   "execution_count": 5,
   "metadata": {},
   "outputs": [
    {
     "name": "stdout",
     "output_type": "stream",
     "text": [
      "before\n",
      "my_func\n",
      "after\n"
     ]
    }
   ],
   "source": [
    "def decorator(some_func):\n",
    "    print(\"before\")\n",
    "    some_func()\n",
    "    print(\"after\")\n",
    "\n",
    "\n",
    "def my_func():\n",
    "    print(\"my_func\")\n",
    "\n",
    "\n",
    "decorator(my_func)"
   ]
  },
  {
   "cell_type": "code",
   "execution_count": 6,
   "metadata": {},
   "outputs": [
    {
     "name": "stdout",
     "output_type": "stream",
     "text": [
      "before\n",
      "my_func\n",
      "after\n"
     ]
    }
   ],
   "source": [
    "def my_decorator(func_to_decorate): # 1. Функция, которая\n",
    "\n",
    "    def decorated_func():\n",
    "        print(\"before\")\n",
    "        func_to_decorate() # 3. В которую завернута декорируемая функция\n",
    "        print(\"after\")\n",
    "\n",
    "    return decorated_func # 2. возвращает функцию,\n",
    "\n",
    "\n",
    "def my_func():\n",
    "    print(\"my_func\")\n",
    "\n",
    "\n",
    "decorated = my_decorator(my_func)\n",
    "decorated()"
   ]
  },
  {
   "cell_type": "code",
   "execution_count": 7,
   "metadata": {},
   "outputs": [],
   "source": [
    "# Синтаксис для обертывания функции в декоратор\n",
    "@my_decorator\n",
    "def my_func2():\n",
    "    print(\"my_func2\")"
   ]
  },
  {
   "cell_type": "code",
   "execution_count": 8,
   "metadata": {
    "scrolled": true
   },
   "outputs": [
    {
     "name": "stdout",
     "output_type": "stream",
     "text": [
      "before\n",
      "my_func2\n",
      "after\n"
     ]
    }
   ],
   "source": [
    "my_func2()"
   ]
  },
  {
   "cell_type": "code",
   "execution_count": 9,
   "metadata": {},
   "outputs": [
    {
     "name": "stdout",
     "output_type": "stream",
     "text": [
      "decorator_arg = 5\n",
      "my_func3\n"
     ]
    }
   ],
   "source": [
    "def decorator_creator(decorator_arg):\n",
    "    def my_decorator(func_to_decorate):\n",
    "        def decorated_func():\n",
    "            # Мы обращаемся к параметрам с использованием \n",
    "            # механизма замыканий, здесь это оправдано\n",
    "            print(\"decorator_arg = {}\".format(decorator_arg))\n",
    "            func_to_decorate()\n",
    "        return decorated_func\n",
    "    return my_decorator\n",
    "\n",
    "\n",
    "@decorator_creator(5) # Результат вызова - my_decorator\n",
    "def my_func3():\n",
    "    print(\"my_func3\")\n",
    "\n",
    "my_func3()"
   ]
  },
  {
   "cell_type": "code",
   "execution_count": 10,
   "metadata": {
    "scrolled": true
   },
   "outputs": [],
   "source": [
    "#my_func3(1,2,3)"
   ]
  },
  {
   "cell_type": "code",
   "execution_count": 11,
   "metadata": {},
   "outputs": [],
   "source": [
    "def benchmark(func):\n",
    "    import time\n",
    "\n",
    "    def wrapper(*args, **kwargs):\n",
    "        t = time.time()\n",
    "        res = func(*args, **kwargs)\n",
    "        print(func.__name__, time.time() - t)\n",
    "        return res\n",
    "\n",
    "    return wrapper"
   ]
  },
  {
   "cell_type": "code",
   "execution_count": 12,
   "metadata": {},
   "outputs": [],
   "source": [
    "def logging(func):\n",
    "    def wrapper(*args, **kwargs):\n",
    "        res = func(*args, **kwargs)\n",
    "        print(func.__name__, args, kwargs)\n",
    "        return res\n",
    "\n",
    "    return wrapper"
   ]
  },
  {
   "cell_type": "code",
   "execution_count": 13,
   "metadata": {},
   "outputs": [],
   "source": [
    "@logging\n",
    "def my_func4(p1, p2):\n",
    "    print(p1, p2)"
   ]
  },
  {
   "cell_type": "code",
   "execution_count": 14,
   "metadata": {
    "scrolled": true
   },
   "outputs": [
    {
     "name": "stdout",
     "output_type": "stream",
     "text": [
      "1 2\n",
      "my_func4 (1, 2) {}\n"
     ]
    }
   ],
   "source": [
    "my_func4(1,2)"
   ]
  },
  {
   "cell_type": "code",
   "execution_count": 15,
   "metadata": {},
   "outputs": [],
   "source": [
    "def logging_with_params(par1, par2):\n",
    "    def logging(func):\n",
    "        def wrapper(*args, **kwargs):\n",
    "            print('Decorator arguments:', par1, par2)\n",
    "            res = func(*args, **kwargs)\n",
    "            print(func.__name__, args, kwargs)\n",
    "            return res\n",
    "\n",
    "        return wrapper\n",
    "    return logging"
   ]
  },
  {
   "cell_type": "code",
   "execution_count": 16,
   "metadata": {},
   "outputs": [],
   "source": [
    "@logging_with_params(1,2)\n",
    "def my_func5(p1, p2):\n",
    "    print(p1, p2)"
   ]
  },
  {
   "cell_type": "code",
   "execution_count": 17,
   "metadata": {
    "scrolled": true
   },
   "outputs": [
    {
     "name": "stdout",
     "output_type": "stream",
     "text": [
      "Decorator arguments: 1 2\n",
      "1 2\n",
      "my_func5 (1, 2) {}\n"
     ]
    }
   ],
   "source": [
    "my_func5(1,2)"
   ]
  },
  {
   "cell_type": "code",
   "execution_count": 18,
   "metadata": {},
   "outputs": [],
   "source": [
    "def logging_with_params2(*args, **kwargs):\n",
    "    \n",
    "    print('=====================================')\n",
    "    print('Arguments:')\n",
    "    for arg in args:\n",
    "        print(arg)\n",
    "    print('\\nKeywords:')\n",
    "    for key in kwargs:\n",
    "        print('{} = {}'.format(key, kwargs[key]))       \n",
    "    print('=====================================')\n",
    "    \n",
    "    par1 = args[0]\n",
    "    par2 = args[1]\n",
    "    \n",
    "    def logging(func):\n",
    "        def wrapper(*args, **kwargs):\n",
    "            print('Decorator arguments:', par1, par2)\n",
    "            res = func(*args, **kwargs)\n",
    "            print(func.__name__, args, kwargs)\n",
    "            return res\n",
    "\n",
    "        return wrapper\n",
    "    return logging"
   ]
  },
  {
   "cell_type": "code",
   "execution_count": 19,
   "metadata": {
    "scrolled": true
   },
   "outputs": [
    {
     "name": "stdout",
     "output_type": "stream",
     "text": [
      "=====================================\n",
      "Arguments:\n",
      "1\n",
      "2\n",
      "3\n",
      "True\n",
      "qwerty\n",
      "\n",
      "Keywords:\n",
      "param1 = 123\n",
      "bool_param = True\n",
      "str_param = string\n",
      "=====================================\n"
     ]
    }
   ],
   "source": [
    "@logging_with_params2(1,2,3,True, 'qwerty', param1=123, bool_param=True, str_param='string')\n",
    "def my_func7(p1, p2):\n",
    "    print(p1, p2)"
   ]
  },
  {
   "cell_type": "code",
   "execution_count": 20,
   "metadata": {
    "scrolled": true
   },
   "outputs": [
    {
     "name": "stdout",
     "output_type": "stream",
     "text": [
      "Decorator arguments: 1 2\n",
      "1 2\n",
      "my_func7 (1, 2) {}\n"
     ]
    }
   ],
   "source": [
    "my_func7(1,2)"
   ]
  },
  {
   "cell_type": "code",
   "execution_count": 21,
   "metadata": {},
   "outputs": [],
   "source": [
    "@benchmark\n",
    "def time1(n):\n",
    "    res = []\n",
    "    for i in range(n):\n",
    "        res.append(i)\n",
    "    return res"
   ]
  },
  {
   "cell_type": "code",
   "execution_count": 22,
   "metadata": {
    "scrolled": false
   },
   "outputs": [
    {
     "name": "stdout",
     "output_type": "stream",
     "text": [
      "time1 0.8724780082702637\n"
     ]
    }
   ],
   "source": [
    "tt1 = time1(10000000)"
   ]
  },
  {
   "cell_type": "code",
   "execution_count": 23,
   "metadata": {},
   "outputs": [],
   "source": [
    "@benchmark\n",
    "def time2(n):\n",
    "    return [i for i in range(n)]"
   ]
  },
  {
   "cell_type": "code",
   "execution_count": 24,
   "metadata": {
    "scrolled": false
   },
   "outputs": [
    {
     "name": "stdout",
     "output_type": "stream",
     "text": [
      "time2 0.4886922836303711\n"
     ]
    }
   ],
   "source": [
    "tt2 = time2(10000000)"
   ]
  },
  {
   "cell_type": "markdown",
   "metadata": {},
   "source": [
    "## Использование нескольких декораторов"
   ]
  },
  {
   "cell_type": "code",
   "execution_count": 25,
   "metadata": {},
   "outputs": [],
   "source": [
    "def add_decorator(param):\n",
    "    def inner(func):\n",
    "        def wrapper(*args, **kwargs):\n",
    "            print('add_decorator:', param)\n",
    "            res = func(*args, **kwargs)\n",
    "            return res + param\n",
    "        return wrapper\n",
    "    return inner"
   ]
  },
  {
   "cell_type": "code",
   "execution_count": 26,
   "metadata": {},
   "outputs": [],
   "source": [
    "def mul_decorator(param):\n",
    "    def inner(func):\n",
    "        def wrapper(*args, **kwargs):\n",
    "            print('mul_decorator:', param)\n",
    "            res = func(*args, **kwargs)\n",
    "            return res * param\n",
    "        return wrapper\n",
    "    return inner"
   ]
  },
  {
   "cell_type": "code",
   "execution_count": 27,
   "metadata": {},
   "outputs": [],
   "source": [
    "def pow_decorator(param):\n",
    "    def inner(func):\n",
    "        def wrapper(*args, **kwargs):\n",
    "            print('pow_decorator:', param)\n",
    "            res = func(*args, **kwargs)\n",
    "            return res ** param\n",
    "        return wrapper\n",
    "    return inner"
   ]
  },
  {
   "cell_type": "code",
   "execution_count": 28,
   "metadata": {},
   "outputs": [],
   "source": [
    "@mul_decorator(5)\n",
    "@add_decorator(1)\n",
    "def get_const_1(i):\n",
    "    return i"
   ]
  },
  {
   "cell_type": "code",
   "execution_count": 29,
   "metadata": {},
   "outputs": [
    {
     "name": "stdout",
     "output_type": "stream",
     "text": [
      "mul_decorator: 5\n",
      "add_decorator: 1\n"
     ]
    },
    {
     "data": {
      "text/plain": [
       "20"
      ]
     },
     "execution_count": 29,
     "metadata": {},
     "output_type": "execute_result"
    }
   ],
   "source": [
    "get_const_1(3)"
   ]
  },
  {
   "cell_type": "code",
   "execution_count": 30,
   "metadata": {},
   "outputs": [],
   "source": [
    "@pow_decorator(2)\n",
    "@mul_decorator(5)\n",
    "@add_decorator(1)\n",
    "def get_const_2(i):\n",
    "    return i"
   ]
  },
  {
   "cell_type": "code",
   "execution_count": 31,
   "metadata": {},
   "outputs": [
    {
     "name": "stdout",
     "output_type": "stream",
     "text": [
      "pow_decorator: 2\n",
      "mul_decorator: 5\n",
      "add_decorator: 1\n"
     ]
    },
    {
     "data": {
      "text/plain": [
       "400"
      ]
     },
     "execution_count": 31,
     "metadata": {},
     "output_type": "execute_result"
    }
   ],
   "source": [
    "get_const_2(3)"
   ]
  },
  {
   "cell_type": "markdown",
   "metadata": {},
   "source": [
    "**Вывод:** декораторы выполняются от внутреннего к внешнему."
   ]
  },
  {
   "cell_type": "code",
   "execution_count": null,
   "metadata": {},
   "outputs": [],
   "source": []
  }
 ],
 "metadata": {
  "kernelspec": {
   "display_name": "Python 3",
   "language": "python",
   "name": "python3"
  },
  "language_info": {
   "codemirror_mode": {
    "name": "ipython",
    "version": 3
   },
   "file_extension": ".py",
   "mimetype": "text/x-python",
   "name": "python",
   "nbconvert_exporter": "python",
   "pygments_lexer": "ipython3",
   "version": "3.8.5"
  },
  "toc": {
   "base_numbering": 1,
   "nav_menu": {},
   "number_sections": true,
   "sideBar": true,
   "skip_h1_title": false,
   "title_cell": "Table of Contents",
   "title_sidebar": "Contents",
   "toc_cell": false,
   "toc_position": {},
   "toc_section_display": true,
   "toc_window_display": false
  }
 },
 "nbformat": 4,
 "nbformat_minor": 4
}
