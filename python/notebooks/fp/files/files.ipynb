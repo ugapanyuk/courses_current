{
 "cells": [
  {
   "cell_type": "markdown",
   "metadata": {},
   "source": [
    "# Работа с файлами в Python\n",
    "\n",
    "[Документация.](https://docs.python.org/3/tutorial/inputoutput.html#reading-and-writing-files)\n",
    "\n",
    "## Основные функции и методы для работы с файлами\n",
    "\n",
    "### [`f=open(имя файла, режим открытия)`](https://docs.python.org/3/library/functions.html#open) - открытие файла\n",
    "(где f - дескриптор открываемого файла). Возможно указание кодировки для текстового файла.\n",
    "\n",
    "Режим открытия:\n",
    "- `'r'` - только чтение\n",
    "- `'w'` - только запись (существующий файл удаляется)\n",
    "- `'r+'` - чтение и запись\n",
    "- `'a'` - добавление в конец файла\n",
    "- `'t'` - работа с текстовыми файлами\n",
    "- `'b'` - работа с двоичными файлами\n",
    "\n",
    "### `f.close()` - закрытие файла\n",
    "\n",
    "### `f.read(size - необязательный)` - чтение всего файла (без параметров) или первых size элементов\n",
    "\n",
    "### `f.readline()` - чтение одной строки\n",
    "\n",
    "### `f.readlines()` - чтение всех строк\n",
    "\n",
    "### `f.write(данные)` - запись данных в файл\n",
    "\n",
    "Как правило, для работы с файлами применяются контекстные менеджеры."
   ]
  },
  {
   "cell_type": "code",
   "execution_count": 1,
   "metadata": {},
   "outputs": [
    {
     "name": "stdout",
     "output_type": "stream",
     "text": [
      "The Zen of Python, by Tim Peters\n",
      "\n",
      "\n",
      "\n",
      "Beautiful is better than ugly.\n",
      "\n",
      "Explicit is better than implicit.\n",
      "\n",
      "Simple is better than complex.\n",
      "\n",
      "Complex is better than complicated.\n",
      "\n",
      "Flat is better than nested.\n",
      "\n",
      "Sparse is better than dense.\n",
      "\n",
      "Readability counts.\n",
      "\n",
      "Special cases aren't special enough to break the rules.\n",
      "\n",
      "Although practicality beats purity.\n",
      "\n",
      "Errors should never pass silently.\n",
      "\n",
      "Unless explicitly silenced.\n",
      "\n",
      "In the face of ambiguity, refuse the temptation to guess.\n",
      "\n",
      "There should be one-- and preferably only one --obvious way to do it.\n",
      "\n",
      "Although that way may not be obvious at first unless you're Dutch.\n",
      "\n",
      "Now is better than never.\n",
      "\n",
      "Although never is often better than *right* now.\n",
      "\n",
      "If the implementation is hard to explain, it's a bad idea.\n",
      "\n",
      "If the implementation is easy to explain, it may be a good idea.\n",
      "\n",
      "Namespaces are one honking great idea -- let's do more of those!\n"
     ]
    }
   ],
   "source": [
    "f = open('zen.txt', 'rt')\n",
    "for s in f:\n",
    "    print(s)\n",
    "f.close()"
   ]
  },
  {
   "cell_type": "code",
   "execution_count": 2,
   "metadata": {},
   "outputs": [
    {
     "name": "stdout",
     "output_type": "stream",
     "text": [
      "!The Zen of Python, by Tim Peters\n",
      "\n",
      "!\n",
      "\n",
      "!Beautiful is better than ugly.\n",
      "\n",
      "!Explicit is better than implicit.\n",
      "\n",
      "!Simple is better than complex.\n",
      "\n",
      "!Complex is better than complicated.\n",
      "\n",
      "!Flat is better than nested.\n",
      "\n",
      "!Sparse is better than dense.\n",
      "\n",
      "!Readability counts.\n",
      "\n",
      "!Special cases aren't special enough to break the rules.\n",
      "\n",
      "!Although practicality beats purity.\n",
      "\n",
      "!Errors should never pass silently.\n",
      "\n",
      "!Unless explicitly silenced.\n",
      "\n",
      "!In the face of ambiguity, refuse the temptation to guess.\n",
      "\n",
      "!There should be one-- and preferably only one --obvious way to do it.\n",
      "\n",
      "!Although that way may not be obvious at first unless you're Dutch.\n",
      "\n",
      "!Now is better than never.\n",
      "\n",
      "!Although never is often better than *right* now.\n",
      "\n",
      "!If the implementation is hard to explain, it's a bad idea.\n",
      "\n",
      "!If the implementation is easy to explain, it may be a good idea.\n",
      "\n",
      "!Namespaces are one honking great idea -- let's do more of those!\n"
     ]
    }
   ],
   "source": [
    "# С использованием контекстного менеджера\n",
    "with open('zen.txt', 'rt') as f:\n",
    "    for s in f:\n",
    "        print('!' + s)"
   ]
  },
  {
   "cell_type": "code",
   "execution_count": 3,
   "metadata": {},
   "outputs": [],
   "source": [
    "# Копирование файла\n",
    "with open('zen.txt', 'rt') as f1:\n",
    "    with open('zen2.txt', 'w') as f2:\n",
    "        data = f1.read()\n",
    "        f2.write(data)"
   ]
  },
  {
   "cell_type": "code",
   "execution_count": 4,
   "metadata": {},
   "outputs": [
    {
     "name": "stdout",
     "output_type": "stream",
     "text": [
      "['The Zen of Python, by Tim Peters\\n', '\\n', 'Beautiful is better than ugly.\\n', 'Explicit is better than implicit.\\n', 'Simple is better than complex.\\n', 'Complex is better than complicated.\\n', 'Flat is better than nested.\\n', 'Sparse is better than dense.\\n', 'Readability counts.\\n', \"Special cases aren't special enough to break the rules.\\n\", 'Although practicality beats purity.\\n', 'Errors should never pass silently.\\n', 'Unless explicitly silenced.\\n', 'In the face of ambiguity, refuse the temptation to guess.\\n', 'There should be one-- and preferably only one --obvious way to do it.\\n', \"Although that way may not be obvious at first unless you're Dutch.\\n\", 'Now is better than never.\\n', 'Although never is often better than *right* now.\\n', \"If the implementation is hard to explain, it's a bad idea.\\n\", 'If the implementation is easy to explain, it may be a good idea.\\n', \"Namespaces are one honking great idea -- let's do more of those!\"]\n"
     ]
    }
   ],
   "source": [
    "with open('zen2.txt', 'r') as f2:\n",
    "    lines = f2.readlines()\n",
    "    print(lines)"
   ]
  },
  {
   "cell_type": "markdown",
   "metadata": {},
   "source": [
    "## Работа с файлами в формате [JSON](https://ru.wikipedia.org/wiki/JSON)"
   ]
  },
  {
   "cell_type": "code",
   "execution_count": 5,
   "metadata": {},
   "outputs": [],
   "source": [
    "import json"
   ]
  },
  {
   "cell_type": "code",
   "execution_count": 6,
   "metadata": {},
   "outputs": [],
   "source": [
    "de1 = [1,2,3,{'key1':'value1','key2':'value2'}]"
   ]
  },
  {
   "cell_type": "code",
   "execution_count": 7,
   "metadata": {},
   "outputs": [
    {
     "data": {
      "text/plain": [
       "'[1, 2, 3, {\"key1\": \"value1\", \"key2\": \"value2\"}]'"
      ]
     },
     "execution_count": 7,
     "metadata": {},
     "output_type": "execute_result"
    }
   ],
   "source": [
    "json.dumps(de1)"
   ]
  },
  {
   "cell_type": "code",
   "execution_count": 8,
   "metadata": {},
   "outputs": [],
   "source": [
    "with open('json1.json', 'w') as jf1:\n",
    "    json.dump(de1, jf1)"
   ]
  },
  {
   "cell_type": "code",
   "execution_count": 9,
   "metadata": {},
   "outputs": [
    {
     "name": "stdout",
     "output_type": "stream",
     "text": [
      "[1, 2, 3, {\"key1\": \"value1\", \"key2\": \"value2\"}]\n"
     ]
    }
   ],
   "source": [
    "with open('json1.json', 'r') as jf1:\n",
    "    print(jf1.read())"
   ]
  },
  {
   "cell_type": "code",
   "execution_count": 10,
   "metadata": {},
   "outputs": [
    {
     "name": "stdout",
     "output_type": "stream",
     "text": [
      "[1, 2, 3, {'key1': 'value1', 'key2': 'value2'}]\n"
     ]
    }
   ],
   "source": [
    "with open('json1.json', 'r') as jf1:\n",
    "    de2 = json.load(jf1)\n",
    "print(de2)"
   ]
  },
  {
   "cell_type": "markdown",
   "metadata": {},
   "source": [
    "### Пример работы с большим файлом JSON"
   ]
  },
  {
   "cell_type": "code",
   "execution_count": 11,
   "metadata": {},
   "outputs": [],
   "source": [
    "with open('data_light.json', 'r', encoding='utf8') as f:\n",
    "    data = json.load(f)"
   ]
  },
  {
   "cell_type": "code",
   "execution_count": 12,
   "metadata": {},
   "outputs": [
    {
     "data": {
      "text/plain": [
       "'<p>Умение общаться по телефону и лично, доброжелательность, ответственность, стрессоустойчивость.</p>'"
      ]
     },
     "execution_count": 12,
     "metadata": {},
     "output_type": "execute_result"
    }
   ],
   "source": [
    "data[0]['description']"
   ]
  },
  {
   "cell_type": "code",
   "execution_count": 13,
   "metadata": {},
   "outputs": [
    {
     "name": "stdout",
     "output_type": "stream",
     "text": [
      "Администратор на телефоне\n",
      "ООО РОЯЛ КЛИНИК\n",
      "\n",
      "Медицинская сестра\n",
      "ГБУЗ МО \"Сергиево-Посадская районная больница\"\n",
      "\n",
      "Охранник сутки-день-ночь-вахта\n",
      "Общество ограниченной ответственностью частная охранная организация ПАЛЛАДА 24\n",
      "\n",
      "ВРАЧ АНЕСТЕЗИОЛОГ РЕАНИМАТОЛОГ\n",
      "ГБУЗ МО \"Сергиево-Посадская районная больница\"\n",
      "\n",
      "теплотехник\n",
      "Общество с ограниченной ответственностью \"АДС Комфорт\"\n",
      "\n",
      "разнорабочий\n",
      "ООО \"Екатерина Плюс\"\n",
      "\n",
      "Электро-газосварщик\n",
      "ООО первым СИВ  СтройИнвест\n",
      "\n",
      "Водитель Gett/Гетт и Yandex/Яндекс такси на личном автомобиле\n",
      "Пилипчук Валерий Викторович\n",
      "\n",
      "Монолитные работы\n",
      "ООО первым СИВ  СтройИнвест\n",
      "\n",
      "Организатор – тренер\n",
      "ООО\"ТОРГОВЫЙ ДОМ РОЛС\"\n",
      "\n"
     ]
    }
   ],
   "source": [
    "for i in range(10):\n",
    "    print(data[i]['job-name'])\n",
    "    print(data[i]['company']['name'])\n",
    "    print()"
   ]
  },
  {
   "cell_type": "code",
   "execution_count": null,
   "metadata": {},
   "outputs": [],
   "source": []
  },
  {
   "cell_type": "code",
   "execution_count": null,
   "metadata": {},
   "outputs": [],
   "source": []
  },
  {
   "cell_type": "code",
   "execution_count": null,
   "metadata": {},
   "outputs": [],
   "source": []
  }
 ],
 "metadata": {
  "kernelspec": {
   "display_name": "Python 3",
   "language": "python",
   "name": "python3"
  },
  "language_info": {
   "codemirror_mode": {
    "name": "ipython",
    "version": 3
   },
   "file_extension": ".py",
   "mimetype": "text/x-python",
   "name": "python",
   "nbconvert_exporter": "python",
   "pygments_lexer": "ipython3",
   "version": "3.8.5"
  },
  "toc": {
   "base_numbering": 1,
   "nav_menu": {},
   "number_sections": true,
   "sideBar": true,
   "skip_h1_title": false,
   "title_cell": "Table of Contents",
   "title_sidebar": "Contents",
   "toc_cell": false,
   "toc_position": {},
   "toc_section_display": true,
   "toc_window_display": false
  }
 },
 "nbformat": 4,
 "nbformat_minor": 4
}
