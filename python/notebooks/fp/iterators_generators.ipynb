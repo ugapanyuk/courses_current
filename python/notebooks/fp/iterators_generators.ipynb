{
 "cells": [
  {
   "cell_type": "markdown",
   "metadata": {},
   "source": [
    "# Итераторы и генераторы\n",
    "\n",
    "Механизмы, которые используются в Python для обработки последовательностей.\n",
    "\n",
    "Генераторы позволяют реализовать концепцию [ленивых вычислений.](https://ru.wikipedia.org/wiki/%D0%9B%D0%B5%D0%BD%D0%B8%D0%B2%D1%8B%D0%B5_%D0%B2%D1%8B%D1%87%D0%B8%D1%81%D0%BB%D0%B5%D0%BD%D0%B8%D1%8F)\n",
    "\n"
   ]
  },
  {
   "cell_type": "markdown",
   "metadata": {},
   "source": [
    "## Итераторы\n",
    "\n",
    "Обеспечивают интерфейс перебора элементов последовательности.\n",
    "\n",
    "- Любая структура, по которой можно итерироваться неявно превращается  в итератор с помощью встроенной функции `iter`.\n",
    "\n",
    "- Для перехода к следующему элементу используется метод `__next__`.\n",
    "\n",
    "- Для завершения работы итератора необходимо сгенерировать исключение `StopIteration`.\n",
    "\n",
    "[Документация.](https://docs.python.org/3/tutorial/classes.html#iterators)"
   ]
  },
  {
   "cell_type": "code",
   "execution_count": 1,
   "metadata": {},
   "outputs": [],
   "source": [
    "lst = [1,2,3]"
   ]
  },
  {
   "cell_type": "code",
   "execution_count": 2,
   "metadata": {},
   "outputs": [
    {
     "name": "stdout",
     "output_type": "stream",
     "text": [
      "Здесь могут быть другие действия\n",
      "1\n",
      "Здесь могут быть другие действия\n",
      "2\n",
      "Здесь могут быть другие действия\n",
      "3\n"
     ]
    }
   ],
   "source": [
    "for i in lst:\n",
    "    print('Здесь могут быть другие действия')\n",
    "    print(i)"
   ]
  },
  {
   "cell_type": "code",
   "execution_count": 3,
   "metadata": {},
   "outputs": [
    {
     "data": {
      "text/plain": [
       "<list_iterator at 0x15840d5a820>"
      ]
     },
     "execution_count": 3,
     "metadata": {},
     "output_type": "execute_result"
    }
   ],
   "source": [
    "# Что происходит на нижнем уровне?\n",
    "lst_iter = iter(lst)\n",
    "lst_iter"
   ]
  },
  {
   "cell_type": "code",
   "execution_count": 4,
   "metadata": {},
   "outputs": [
    {
     "name": "stdout",
     "output_type": "stream",
     "text": [
      "Здесь могут быть другие действия\n",
      "1\n",
      "Здесь могут быть другие действия\n",
      "2\n",
      "Здесь могут быть другие действия\n",
      "3\n",
      "Здесь могут быть другие действия\n"
     ]
    }
   ],
   "source": [
    "lst_iter = iter(lst)\n",
    "while True:\n",
    "    try:\n",
    "        print('Здесь могут быть другие действия')\n",
    "        # Использование метода __next__\n",
    "        i = lst_iter.__next__()\n",
    "        print(i)\n",
    "    except StopIteration:\n",
    "        break"
   ]
  },
  {
   "cell_type": "code",
   "execution_count": 5,
   "metadata": {},
   "outputs": [
    {
     "name": "stdout",
     "output_type": "stream",
     "text": [
      "Здесь могут быть другие действия\n",
      "1\n",
      "Здесь могут быть другие действия\n",
      "2\n",
      "Здесь могут быть другие действия\n",
      "3\n",
      "Здесь могут быть другие действия\n"
     ]
    }
   ],
   "source": [
    "lst_iter = iter(lst)\n",
    "while True:\n",
    "    try:\n",
    "        print('Здесь могут быть другие действия')\n",
    "        # Использование функции next\n",
    "        i = next(lst_iter)\n",
    "        print(i)\n",
    "    except StopIteration:\n",
    "        break"
   ]
  },
  {
   "cell_type": "markdown",
   "metadata": {},
   "source": [
    "### Создание итераторов"
   ]
  },
  {
   "cell_type": "code",
   "execution_count": 6,
   "metadata": {},
   "outputs": [],
   "source": [
    "# Простейший итератор (из документации)\n",
    "class Reverse:\n",
    "    \"\"\"Iterator for looping over a sequence backwards.\"\"\"\n",
    "    def __init__(self, data):\n",
    "        self.data = data\n",
    "        self.index = len(data)\n",
    "\n",
    "    def __iter__(self):\n",
    "        return self\n",
    "\n",
    "    def __next__(self):\n",
    "        if self.index == 0:\n",
    "            raise StopIteration\n",
    "        self.index = self.index - 1\n",
    "        return self.data[self.index]"
   ]
  },
  {
   "cell_type": "code",
   "execution_count": 7,
   "metadata": {},
   "outputs": [
    {
     "name": "stdout",
     "output_type": "stream",
     "text": [
      "3\n",
      "2\n",
      "1\n"
     ]
    }
   ],
   "source": [
    "for i in Reverse(lst):\n",
    "    print(i)"
   ]
  },
  {
   "cell_type": "code",
   "execution_count": 8,
   "metadata": {},
   "outputs": [],
   "source": [
    "class Unique:\n",
    "    \"\"\"Итератор, оставляющий только уникальные значения.\"\"\"\n",
    "    def __init__(self, data):\n",
    "        self.used_elements = set() \n",
    "        self.data = data\n",
    "        self.index = 0\n",
    "\n",
    "    def __iter__(self):\n",
    "        return self\n",
    "\n",
    "    def __next__(self):\n",
    "        while True:\n",
    "            if self.index >= len(self.data):\n",
    "                raise StopIteration\n",
    "            else:\n",
    "                current = self.data[self.index]      \n",
    "                self.index = self.index + 1\n",
    "                if current not in self.used_elements:\n",
    "                    # Добавление в множество производится \n",
    "                    # с помощью метода add\n",
    "                    self.used_elements.add(current)\n",
    "                    return current"
   ]
  },
  {
   "cell_type": "code",
   "execution_count": 9,
   "metadata": {},
   "outputs": [],
   "source": [
    "lst2 = [1,3,2,3,2,1,4,3,3,3]"
   ]
  },
  {
   "cell_type": "code",
   "execution_count": 10,
   "metadata": {},
   "outputs": [
    {
     "name": "stdout",
     "output_type": "stream",
     "text": [
      "1\n",
      "3\n",
      "2\n",
      "4\n"
     ]
    }
   ],
   "source": [
    "for i in Unique(lst2):\n",
    "    print(i) "
   ]
  },
  {
   "cell_type": "code",
   "execution_count": null,
   "metadata": {},
   "outputs": [],
   "source": []
  },
  {
   "cell_type": "markdown",
   "metadata": {},
   "source": [
    "## Генераторы\n",
    "\n",
    "Являются простым средством создания итераторов, надстройкой над итераторами.\n",
    "\n",
    "Генераторы позволяют реализовать концепцию [ленивых вычислений.](https://ru.wikipedia.org/wiki/%D0%9B%D0%B5%D0%BD%D0%B8%D0%B2%D1%8B%D0%B5_%D0%B2%D1%8B%D1%87%D0%B8%D1%81%D0%BB%D0%B5%D0%BD%D0%B8%D1%8F)\n",
    "\n",
    "Существует два вида генераторов:\n",
    "- Генераторные выражения\n",
    "- Генераторные функции\n",
    "\n",
    "[Документация.](https://docs.python.org/3/tutorial/classes.html#generators)"
   ]
  },
  {
   "cell_type": "markdown",
   "metadata": {},
   "source": [
    "### Генераторные выражения\n",
    "\n",
    "Напоминают comprehension, но позволяют создавать ленивые конструкции.\n",
    "\n",
    "Генераторные выражения используют круглые скобки."
   ]
  },
  {
   "cell_type": "code",
   "execution_count": 11,
   "metadata": {},
   "outputs": [
    {
     "data": {
      "text/plain": [
       "[1, 2, 3]"
      ]
     },
     "execution_count": 11,
     "metadata": {},
     "output_type": "execute_result"
    }
   ],
   "source": [
    "[i for i in lst]"
   ]
  },
  {
   "cell_type": "code",
   "execution_count": 12,
   "metadata": {},
   "outputs": [
    {
     "data": {
      "text/plain": [
       "<generator object <genexpr> at 0x0000015840D9EA50>"
      ]
     },
     "execution_count": 12,
     "metadata": {},
     "output_type": "execute_result"
    }
   ],
   "source": [
    "(i for i in lst)"
   ]
  },
  {
   "cell_type": "code",
   "execution_count": 13,
   "metadata": {},
   "outputs": [
    {
     "data": {
      "text/plain": [
       "<generator object <genexpr> at 0x0000015840D9EDD0>"
      ]
     },
     "execution_count": 13,
     "metadata": {},
     "output_type": "execute_result"
    }
   ],
   "source": [
    "gen1 = (i for i in lst)\n",
    "gen1"
   ]
  },
  {
   "cell_type": "code",
   "execution_count": 14,
   "metadata": {},
   "outputs": [
    {
     "name": "stdout",
     "output_type": "stream",
     "text": [
      "1\n",
      "2\n",
      "3\n"
     ]
    }
   ],
   "source": [
    "for i in gen1:\n",
    "    print(i)"
   ]
  },
  {
   "cell_type": "code",
   "execution_count": 15,
   "metadata": {},
   "outputs": [],
   "source": [
    "for i in gen1:\n",
    "    print(i)"
   ]
  },
  {
   "cell_type": "code",
   "execution_count": 16,
   "metadata": {},
   "outputs": [
    {
     "name": "stdout",
     "output_type": "stream",
     "text": [
      "Здесь могут быть другие действия\n",
      "1\n",
      "Здесь могут быть другие действия\n",
      "2\n",
      "Здесь могут быть другие действия\n",
      "3\n",
      "Здесь могут быть другие действия\n"
     ]
    }
   ],
   "source": [
    "# В отличие от списка генераторные выражения\n",
    "# генерируют по одному элементу\n",
    "lst_iter = (i for i in lst)\n",
    "while True:\n",
    "    try:\n",
    "        print('Здесь могут быть другие действия')\n",
    "        # Использование метода __next__\n",
    "        i = lst_iter.__next__()\n",
    "        print(i)\n",
    "    except StopIteration:\n",
    "        break"
   ]
  },
  {
   "cell_type": "code",
   "execution_count": null,
   "metadata": {},
   "outputs": [],
   "source": []
  },
  {
   "cell_type": "markdown",
   "metadata": {},
   "source": [
    "### Генераторные функции\n",
    "\n",
    "Используют конструкцию yield.\n",
    "\n",
    "Метод send позволяет отправлять сообщения в генераторную функцию."
   ]
  },
  {
   "cell_type": "code",
   "execution_count": 17,
   "metadata": {},
   "outputs": [],
   "source": [
    "def square(lst):\n",
    "    for i in lst:\n",
    "        yield i"
   ]
  },
  {
   "cell_type": "code",
   "execution_count": 18,
   "metadata": {},
   "outputs": [
    {
     "data": {
      "text/plain": [
       "<generator object square at 0x0000015840DAFD60>"
      ]
     },
     "execution_count": 18,
     "metadata": {},
     "output_type": "execute_result"
    }
   ],
   "source": [
    "square_gen = square(lst)\n",
    "square_gen"
   ]
  },
  {
   "cell_type": "code",
   "execution_count": 19,
   "metadata": {},
   "outputs": [
    {
     "name": "stdout",
     "output_type": "stream",
     "text": [
      "1\n",
      "2\n",
      "3\n"
     ]
    }
   ],
   "source": [
    "for i in square_gen:\n",
    "    print(i)"
   ]
  },
  {
   "cell_type": "code",
   "execution_count": 20,
   "metadata": {},
   "outputs": [
    {
     "name": "stdout",
     "output_type": "stream",
     "text": [
      "Здесь могут быть другие действия\n",
      "1\n",
      "Здесь могут быть другие действия\n",
      "2\n",
      "Здесь могут быть другие действия\n",
      "3\n",
      "Здесь могут быть другие действия\n"
     ]
    }
   ],
   "source": [
    "lst_iter = square(lst)\n",
    "while True:\n",
    "    try:\n",
    "        print('Здесь могут быть другие действия')\n",
    "        # Использование метода __next__\n",
    "        i = lst_iter.__next__()\n",
    "        print(i)\n",
    "    except StopIteration:\n",
    "        break"
   ]
  },
  {
   "cell_type": "code",
   "execution_count": 21,
   "metadata": {},
   "outputs": [],
   "source": [
    "# Генераторные функции могут создавать \n",
    "# бесконечные последовательности\n",
    "def fib():\n",
    "    prev, cur = 0, 1\n",
    "    while True:\n",
    "        yield cur\n",
    "        prev, cur = cur, prev+cur"
   ]
  },
  {
   "cell_type": "code",
   "execution_count": 22,
   "metadata": {},
   "outputs": [
    {
     "name": "stdout",
     "output_type": "stream",
     "text": [
      "1\n",
      "1\n",
      "2\n",
      "3\n",
      "5\n",
      "8\n",
      "13\n",
      "21\n",
      "34\n",
      "55\n"
     ]
    }
   ],
   "source": [
    "fib_gen = fib()\n",
    "for i in range(10):\n",
    "    j = next(fib_gen)\n",
    "    print(j)"
   ]
  },
  {
   "cell_type": "code",
   "execution_count": 23,
   "metadata": {},
   "outputs": [
    {
     "name": "stdout",
     "output_type": "stream",
     "text": [
      "1\n",
      "1\n",
      "2\n",
      "3\n",
      "5\n",
      "8\n",
      "13\n",
      "21\n",
      "34\n",
      "55\n",
      "89\n",
      "144\n",
      "233\n",
      "377\n",
      "610\n"
     ]
    }
   ],
   "source": [
    "fib_gen = fib()\n",
    "for i in range(15):\n",
    "    j = next(fib_gen)\n",
    "    print(j)"
   ]
  },
  {
   "cell_type": "code",
   "execution_count": 24,
   "metadata": {},
   "outputs": [],
   "source": [
    "# Использование send\n",
    "def gen():\n",
    "    while True:\n",
    "        print(\"before\")\n",
    "        value = yield\n",
    "        print(\"receive \", value)"
   ]
  },
  {
   "cell_type": "code",
   "execution_count": 25,
   "metadata": {},
   "outputs": [
    {
     "name": "stdout",
     "output_type": "stream",
     "text": [
      "before\n",
      "receive  1\n",
      "before\n",
      "receive  2\n",
      "before\n"
     ]
    }
   ],
   "source": [
    "gen_object = gen()\n",
    "next(gen_object)\n",
    "gen_object.send(1)\n",
    "gen_object.send(2)"
   ]
  },
  {
   "cell_type": "code",
   "execution_count": null,
   "metadata": {},
   "outputs": [],
   "source": []
  },
  {
   "cell_type": "code",
   "execution_count": null,
   "metadata": {},
   "outputs": [],
   "source": []
  }
 ],
 "metadata": {
  "kernelspec": {
   "display_name": "Python 3",
   "language": "python",
   "name": "python3"
  },
  "language_info": {
   "codemirror_mode": {
    "name": "ipython",
    "version": 3
   },
   "file_extension": ".py",
   "mimetype": "text/x-python",
   "name": "python",
   "nbconvert_exporter": "python",
   "pygments_lexer": "ipython3",
   "version": "3.8.5"
  },
  "toc": {
   "base_numbering": 1,
   "nav_menu": {},
   "number_sections": true,
   "sideBar": true,
   "skip_h1_title": false,
   "title_cell": "Table of Contents",
   "title_sidebar": "Contents",
   "toc_cell": false,
   "toc_position": {},
   "toc_section_display": true,
   "toc_window_display": false
  }
 },
 "nbformat": 4,
 "nbformat_minor": 4
}
