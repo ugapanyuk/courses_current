{
 "cells": [
  {
   "cell_type": "markdown",
   "metadata": {},
   "source": [
    "# Введение в язык Python"
   ]
  },
  {
   "cell_type": "markdown",
   "metadata": {},
   "source": [
    "## Отступы вместо фигурных скобок\n",
    "\n",
    "Основное отличие языка Python от С-подобных языков является отсутствие фигурных скобок и выравнивание кода с помощью отступов. Отступ в 4 пробела означает переход на следующий уровень вложенности.\n",
    "\n",
    "Регистр символов различается. Например, А и а - это различные переменные."
   ]
  },
  {
   "cell_type": "code",
   "execution_count": 2,
   "metadata": {},
   "outputs": [
    {
     "name": "stdout",
     "output_type": "stream",
     "text": [
      "0\n",
      "1\n",
      "2\n"
     ]
    }
   ],
   "source": [
    "for i in range(3):\n",
    "    print(i)"
   ]
  },
  {
   "cell_type": "code",
   "execution_count": 3,
   "metadata": {},
   "outputs": [
    {
     "ename": "IndentationError",
     "evalue": "expected an indented block (<ipython-input-3-78291925d94f>, line 2)",
     "output_type": "error",
     "traceback": [
      "\u001b[1;36m  File \u001b[1;32m\"<ipython-input-3-78291925d94f>\"\u001b[1;36m, line \u001b[1;32m2\u001b[0m\n\u001b[1;33m    print(i)\u001b[0m\n\u001b[1;37m        ^\u001b[0m\n\u001b[1;31mIndentationError\u001b[0m\u001b[1;31m:\u001b[0m expected an indented block\n"
     ]
    }
   ],
   "source": [
    "for i in range(3):\n",
    "print(i)"
   ]
  },
  {
   "cell_type": "code",
   "execution_count": 4,
   "metadata": {},
   "outputs": [
    {
     "name": "stdout",
     "output_type": "stream",
     "text": [
      "2\n"
     ]
    }
   ],
   "source": [
    "for i in range(3):\n",
    "    pass\n",
    "print(i)"
   ]
  },
  {
   "cell_type": "markdown",
   "metadata": {},
   "source": [
    "## Переменные и присваивание\n",
    "\n",
    "Python является слаботипизированным языком. Тип переменной автоматически определяется по правой части выражения."
   ]
  },
  {
   "cell_type": "code",
   "execution_count": 8,
   "metadata": {},
   "outputs": [
    {
     "name": "stdout",
     "output_type": "stream",
     "text": [
      "<class 'int'> <class 'float'> <class 'bool'>\n"
     ]
    }
   ],
   "source": [
    "a = 1\n",
    "b = 1.0\n",
    "c = True\n",
    "print(type(a), type(b), type(c))"
   ]
  },
  {
   "cell_type": "code",
   "execution_count": 9,
   "metadata": {},
   "outputs": [
    {
     "name": "stdout",
     "output_type": "stream",
     "text": [
      "1 1.0 True\n"
     ]
    }
   ],
   "source": [
    "# Несколько операторов на одной строке может разделяться \";\"\n",
    "a = 1; b = 1.0; c = True\n",
    "print(a, b, c)"
   ]
  },
  {
   "cell_type": "code",
   "execution_count": 11,
   "metadata": {},
   "outputs": [
    {
     "name": "stdout",
     "output_type": "stream",
     "text": [
      "1 1.0 True\n"
     ]
    }
   ],
   "source": [
    "# Наиболее правильный способ присваивания\n",
    "a1, b1, c1 = 1, 1.0, True\n",
    "print(a1, b1, c1)"
   ]
  },
  {
   "cell_type": "markdown",
   "metadata": {},
   "source": [
    "## Комментарии\n",
    "\n",
    "\\# - Комментарий до конца строки (однострочный комментарий)\n",
    "\n",
    "Формально многострочного комментария в Python нет, но на практике используется строка специального вида:\n",
    "\n",
    "<pre>\n",
    "\"\"\" - это три символа двойных кавычек подряд\n",
    "Многострочный\n",
    "комментарий\n",
    "\"\"\"\n",
    "</pre>\n",
    "\n",
    "При этом для данной строки интерпретатором создается объект."
   ]
  },
  {
   "cell_type": "markdown",
   "metadata": {},
   "source": [
    "## Основные конструкции языка"
   ]
  },
  {
   "cell_type": "markdown",
   "metadata": {},
   "source": [
    "### Условия"
   ]
  },
  {
   "cell_type": "code",
   "execution_count": 12,
   "metadata": {},
   "outputs": [
    {
     "name": "stdout",
     "output_type": "stream",
     "text": [
      "1\n"
     ]
    }
   ],
   "source": [
    "# Условный оператор\n",
    "if a == 1:\n",
    "    print(1)\n",
    "elif a == 2:\n",
    "    print(1)\n",
    "else:\n",
    "    print(\"Не 1 и не 2\")"
   ]
  },
  {
   "cell_type": "code",
   "execution_count": 14,
   "metadata": {},
   "outputs": [
    {
     "name": "stdout",
     "output_type": "stream",
     "text": [
      "Да\n"
     ]
    }
   ],
   "source": [
    "# Однострочный условный оператор (аналог тернарного оператора)\n",
    "d = \"Да\" if a==1 else \"Нет\"\n",
    "print(d)"
   ]
  },
  {
   "cell_type": "markdown",
   "metadata": {},
   "source": [
    "### Циклы"
   ]
  },
  {
   "cell_type": "code",
   "execution_count": 15,
   "metadata": {},
   "outputs": [
    {
     "name": "stdout",
     "output_type": "stream",
     "text": [
      "3\n",
      "4\n",
      "5\n",
      "6\n"
     ]
    }
   ],
   "source": [
    "# Цикл for позволяет только перебирать элементы коллекции:\n",
    "arr = [3,4,5,6]\n",
    "for a in arr: \n",
    "    print(a)"
   ]
  },
  {
   "cell_type": "code",
   "execution_count": 19,
   "metadata": {},
   "outputs": [
    {
     "name": "stdout",
     "output_type": "stream",
     "text": [
      "3\n",
      "4\n",
      "5\n",
      "6\n"
     ]
    }
   ],
   "source": [
    "for a in range(3,7): \n",
    "    print(a)"
   ]
  },
  {
   "cell_type": "code",
   "execution_count": 20,
   "metadata": {},
   "outputs": [
    {
     "name": "stdout",
     "output_type": "stream",
     "text": [
      "с\n",
      "т\n",
      "р\n",
      "о\n",
      "к\n",
      "а\n"
     ]
    }
   ],
   "source": [
    "for s in 'строка':\n",
    "    print(s)"
   ]
  },
  {
   "cell_type": "code",
   "execution_count": 22,
   "metadata": {},
   "outputs": [
    {
     "name": "stdout",
     "output_type": "stream",
     "text": [
      "0 с\n",
      "1 т\n",
      "2 р\n",
      "3 о\n",
      "4 к\n",
      "5 а\n"
     ]
    }
   ],
   "source": [
    "for i, s in enumerate('строка'):\n",
    "    print(i, s)"
   ]
  },
  {
   "cell_type": "code",
   "execution_count": 24,
   "metadata": {},
   "outputs": [
    {
     "name": "stdout",
     "output_type": "stream",
     "text": [
      "0\n",
      "1\n",
      "2\n",
      "3\n",
      "4\n",
      "5\n"
     ]
    }
   ],
   "source": [
    "#Цикл while - цикл с предусловием\n",
    "\n",
    "j = 0\n",
    "while j <= 5:\n",
    "    print(j)\n",
    "    j = j+1"
   ]
  },
  {
   "cell_type": "markdown",
   "metadata": {},
   "source": [
    "## Другие операторы"
   ]
  },
  {
   "cell_type": "code",
   "execution_count": 39,
   "metadata": {},
   "outputs": [
    {
     "name": "stdout",
     "output_type": "stream",
     "text": [
      "3\n",
      "4\n"
     ]
    }
   ],
   "source": [
    "# break - прерывает цикл \n",
    "for a in range(3,10):\n",
    "    if a % 5 == 0:\n",
    "        break\n",
    "    print(a)"
   ]
  },
  {
   "cell_type": "code",
   "execution_count": 66,
   "metadata": {},
   "outputs": [
    {
     "name": "stdout",
     "output_type": "stream",
     "text": [
      "3\n",
      "4\n",
      "6\n",
      "7\n",
      "8\n",
      "9\n"
     ]
    }
   ],
   "source": [
    "# continue - переходит к следующему шагу цикла \n",
    "for a in range(3,10):\n",
    "    if a % 5 == 0:\n",
    "        continue\n",
    "    print(a)"
   ]
  },
  {
   "cell_type": "markdown",
   "metadata": {},
   "source": [
    "## Обработка исключений"
   ]
  },
  {
   "cell_type": "code",
   "execution_count": null,
   "metadata": {},
   "outputs": [],
   "source": [
    "# https://pythonworld.ru/tipy-dannyx-v-python/isklyucheniya-v-python-konstrukciya-try-except-dlya-obrabotki-isklyuchenij.html"
   ]
  },
  {
   "cell_type": "code",
   "execution_count": 67,
   "metadata": {},
   "outputs": [
    {
     "name": "stdout",
     "output_type": "stream",
     "text": [
      "333\n"
     ]
    }
   ],
   "source": [
    "try:\n",
    "    k = 1 / 0\n",
    "except ZeroDivisionError:\n",
    "    k = 333\n",
    "print(k)"
   ]
  },
  {
   "cell_type": "code",
   "execution_count": 68,
   "metadata": {},
   "outputs": [
    {
     "name": "stdout",
     "output_type": "stream",
     "text": [
      "333\n"
     ]
    }
   ],
   "source": [
    "try:\n",
    "    k = 1 / 0\n",
    "except ArithmeticError:\n",
    "    k = 333\n",
    "print(k)"
   ]
  },
  {
   "cell_type": "code",
   "execution_count": 70,
   "metadata": {},
   "outputs": [
    {
     "name": "stdout",
     "output_type": "stream",
     "text": [
      "Этот блок выполяется всегда\n",
      "333\n"
     ]
    }
   ],
   "source": [
    "try:\n",
    "    k = 1 / 0\n",
    "except ZeroDivisionError:\n",
    "    k = 333\n",
    "except ArithmeticError:\n",
    "    k = 334\n",
    "else:\n",
    "    k = 100\n",
    "finally:\n",
    "    print('Этот блок выполяется всегда')\n",
    "print(k)"
   ]
  },
  {
   "cell_type": "code",
   "execution_count": 71,
   "metadata": {},
   "outputs": [
    {
     "name": "stdout",
     "output_type": "stream",
     "text": [
      "Этот блок выполяется всегда\n",
      "334\n"
     ]
    }
   ],
   "source": [
    "try:\n",
    "    k = 1 / 0\n",
    "except ArithmeticError:\n",
    "    k = 334\n",
    "except ZeroDivisionError:\n",
    "    k = 333\n",
    "else:\n",
    "    k = 100\n",
    "finally:\n",
    "    print('Этот блок выполяется всегда')\n",
    "print(k)"
   ]
  },
  {
   "cell_type": "markdown",
   "metadata": {},
   "source": [
    "## Функции"
   ]
  },
  {
   "cell_type": "code",
   "execution_count": 40,
   "metadata": {},
   "outputs": [],
   "source": [
    "# Обычные функции\n",
    "def func1(a, b):\n",
    "    res = a+b\n",
    "    return res"
   ]
  },
  {
   "cell_type": "code",
   "execution_count": 41,
   "metadata": {},
   "outputs": [
    {
     "data": {
      "text/plain": [
       "3"
      ]
     },
     "execution_count": 41,
     "metadata": {},
     "output_type": "execute_result"
    }
   ],
   "source": [
    "func1(1, 2)"
   ]
  },
  {
   "cell_type": "code",
   "execution_count": 45,
   "metadata": {},
   "outputs": [],
   "source": [
    "# Лямбда-выражения\n",
    "func2 = lambda x, y: x+y"
   ]
  },
  {
   "cell_type": "code",
   "execution_count": 46,
   "metadata": {},
   "outputs": [
    {
     "data": {
      "text/plain": [
       "3"
      ]
     },
     "execution_count": 46,
     "metadata": {},
     "output_type": "execute_result"
    }
   ],
   "source": [
    "func2(1, 2)"
   ]
  },
  {
   "cell_type": "markdown",
   "metadata": {},
   "source": [
    "### Функции. Использование аргументов."
   ]
  },
  {
   "cell_type": "code",
   "execution_count": 47,
   "metadata": {},
   "outputs": [],
   "source": [
    "def test_args_kwargs(*args, **kwargs):\n",
    "    print('Arguments:')\n",
    "    for arg in args:\n",
    "        print(arg)\n",
    "    print('\\nKeywords:')\n",
    "    for key in kwargs:\n",
    "        print('{} = {}'.format(key, kwargs[key]))   "
   ]
  },
  {
   "cell_type": "code",
   "execution_count": 49,
   "metadata": {},
   "outputs": [
    {
     "name": "stdout",
     "output_type": "stream",
     "text": [
      "Arguments:\n",
      "1\n",
      "2\n",
      "3\n",
      "True\n",
      "qwerty\n",
      "\n",
      "Keywords:\n",
      "param1 = 123\n",
      "bool_param = True\n",
      "str_param = string\n"
     ]
    }
   ],
   "source": [
    "test_args_kwargs(1,2,3,True, 'qwerty', \n",
    "                 param1=123, bool_param=True, str_param='string')"
   ]
  },
  {
   "cell_type": "code",
   "execution_count": 50,
   "metadata": {},
   "outputs": [],
   "source": [
    "def test_args_kwargs_1(*args, **kwargs):\n",
    "    print('Arguments:')\n",
    "    for arg in args:\n",
    "        print(arg)\n",
    "    print('\\nKeywords:')\n",
    "    for k, v in kwargs.items():\n",
    "        print('{} = {}'.format(k, v))"
   ]
  },
  {
   "cell_type": "code",
   "execution_count": 51,
   "metadata": {},
   "outputs": [
    {
     "name": "stdout",
     "output_type": "stream",
     "text": [
      "Arguments:\n",
      "1\n",
      "2\n",
      "3\n",
      "True\n",
      "qwerty\n",
      "\n",
      "Keywords:\n",
      "param1 = 123\n",
      "bool_param = True\n",
      "str_param = string\n"
     ]
    }
   ],
   "source": [
    "test_args_kwargs_1(1,2,3,True, 'qwerty', param1=123, \n",
    "                   bool_param=True, str_param='string')"
   ]
  },
  {
   "cell_type": "code",
   "execution_count": 52,
   "metadata": {},
   "outputs": [
    {
     "ename": "SyntaxError",
     "evalue": "positional argument follows keyword argument (<ipython-input-52-a723f8f22e10>, line 2)",
     "output_type": "error",
     "traceback": [
      "\u001b[1;36m  File \u001b[1;32m\"<ipython-input-52-a723f8f22e10>\"\u001b[1;36m, line \u001b[1;32m2\u001b[0m\n\u001b[1;33m    'qwerty', param1=123, bool_param=True)\u001b[0m\n\u001b[1;37m    ^\u001b[0m\n\u001b[1;31mSyntaxError\u001b[0m\u001b[1;31m:\u001b[0m positional argument follows keyword argument\n"
     ]
    }
   ],
   "source": [
    "test_args_kwargs(1,2,3,True, str_param='string', \n",
    "                 'qwerty', param1=123, bool_param=True)"
   ]
  },
  {
   "cell_type": "code",
   "execution_count": 54,
   "metadata": {},
   "outputs": [],
   "source": [
    "def test_args_kwargs_2(*arguments, **keywords):\n",
    "    print(type(arguments), arguments)\n",
    "    print(type(keywords), keywords)"
   ]
  },
  {
   "cell_type": "code",
   "execution_count": 55,
   "metadata": {},
   "outputs": [
    {
     "name": "stdout",
     "output_type": "stream",
     "text": [
      "<class 'tuple'> (1, 2, 3, True, 'qwerty')\n",
      "<class 'dict'> {'param1': 123, 'bool_param': True, 'str_param': 'string'}\n"
     ]
    }
   ],
   "source": [
    "test_args_kwargs_2(1, 2, 3, True, 'qwerty', \n",
    "                   param1=123, bool_param=True, str_param='string')"
   ]
  },
  {
   "cell_type": "code",
   "execution_count": 56,
   "metadata": {},
   "outputs": [],
   "source": [
    "def test_args_kwargs_3(p1, p2, *arguments, **keywords):\n",
    "    print(p1, p2)\n",
    "    print(type(arguments), arguments)\n",
    "    print(type(keywords), keywords)"
   ]
  },
  {
   "cell_type": "code",
   "execution_count": 58,
   "metadata": {},
   "outputs": [
    {
     "name": "stdout",
     "output_type": "stream",
     "text": [
      "1 2\n",
      "<class 'tuple'> (3, True, 'qwerty')\n",
      "<class 'dict'> {'param1': 123, 'bool_param': True, 'str_param': 'string'}\n"
     ]
    }
   ],
   "source": [
    "test_args_kwargs_3(1, 2, 3, True, 'qwerty', \n",
    "                   param1=123, bool_param=True, str_param='string')"
   ]
  },
  {
   "cell_type": "code",
   "execution_count": 59,
   "metadata": {},
   "outputs": [],
   "source": [
    "def test_args_kwargs_4(p1, p2, *arguments, \n",
    "                       param1=0, param2=333, **keywords):\n",
    "    print('p1 =', p1, 'p2 =', p2, \n",
    "          'param1 =', param1, 'param2 =', param2)\n",
    "    print(type(arguments), arguments)\n",
    "    print(type(keywords), keywords)"
   ]
  },
  {
   "cell_type": "code",
   "execution_count": 60,
   "metadata": {},
   "outputs": [
    {
     "name": "stdout",
     "output_type": "stream",
     "text": [
      "p1 = 1 p2 = 2 param1 = 123 param2 = 333\n",
      "<class 'tuple'> (3, True, 'qwerty')\n",
      "<class 'dict'> {'bool_param': True, 'str_param': 'string'}\n"
     ]
    }
   ],
   "source": [
    "test_args_kwargs_4(1, 2, 3, True, 'qwerty', \n",
    "                   param1=123, bool_param=True, str_param='string')"
   ]
  },
  {
   "cell_type": "code",
   "execution_count": 62,
   "metadata": {},
   "outputs": [
    {
     "name": "stdout",
     "output_type": "stream",
     "text": [
      "p1 = 2 p2 = 1 param1 = 124 param2 = 334\n",
      "<class 'tuple'> (3, True, 'qwerty')\n",
      "<class 'dict'> {'bool_param': True, 'str_param': 'string'}\n"
     ]
    }
   ],
   "source": [
    "# Изменим порядок указания параметров\n",
    "test_args_kwargs_4(2, 1, 3, True, 'qwerty', param2=334, param1=124, \n",
    "                   bool_param=True, str_param='string')"
   ]
  },
  {
   "cell_type": "code",
   "execution_count": 63,
   "metadata": {},
   "outputs": [
    {
     "name": "stdout",
     "output_type": "stream",
     "text": [
      "p1 = 2 p2 = 1 param1 = 124 param2 = 334\n",
      "<class 'tuple'> (3, True, 'qwerty')\n",
      "<class 'dict'> {'bool_param': True, 'str_param': 'string'}\n"
     ]
    }
   ],
   "source": [
    "test_args_kwargs_4(2, 1, 3, True, 'qwerty', \n",
    "                   bool_param=True, str_param='string', \n",
    "                   param2=334, param1=124)"
   ]
  },
  {
   "cell_type": "markdown",
   "metadata": {},
   "source": [
    "### Работа с консолью. Программу необходимо скопировать в IDLE"
   ]
  },
  {
   "cell_type": "code",
   "execution_count": null,
   "metadata": {},
   "outputs": [],
   "source": [
    "str1 = input(\"Введите целое число:\")\n",
    "int1 = int(str1)\n",
    "print(int1)"
   ]
  },
  {
   "cell_type": "code",
   "execution_count": 64,
   "metadata": {},
   "outputs": [
    {
     "name": "stdout",
     "output_type": "stream",
     "text": [
      "9\n"
     ]
    }
   ],
   "source": [
    "print(3 ** 2)"
   ]
  },
  {
   "cell_type": "code",
   "execution_count": 65,
   "metadata": {},
   "outputs": [
    {
     "name": "stdout",
     "output_type": "stream",
     "text": [
      "3.0\n"
     ]
    }
   ],
   "source": [
    "import math\n",
    "print(math.sqrt(9))"
   ]
  },
  {
   "cell_type": "code",
   "execution_count": null,
   "metadata": {},
   "outputs": [],
   "source": []
  }
 ],
 "metadata": {
  "kernelspec": {
   "display_name": "Python 3",
   "language": "python",
   "name": "python3"
  },
  "language_info": {
   "codemirror_mode": {
    "name": "ipython",
    "version": 3
   },
   "file_extension": ".py",
   "mimetype": "text/x-python",
   "name": "python",
   "nbconvert_exporter": "python",
   "pygments_lexer": "ipython3",
   "version": "3.7.6"
  }
 },
 "nbformat": 4,
 "nbformat_minor": 4
}
