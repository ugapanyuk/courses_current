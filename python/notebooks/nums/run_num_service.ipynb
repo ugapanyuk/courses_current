{
 "cells": [
  {
   "cell_type": "markdown",
   "id": "ee9fd0cd",
   "metadata": {},
   "source": [
    "# Получение данных от сервиса, генерирующего последовательность чисел\n",
    "\n",
    "Для получения данных от сервиса по протоколу HTTP используем библиотеку [Requests.](https://requests.readthedocs.io/en/latest/)"
   ]
  },
  {
   "cell_type": "code",
   "execution_count": 1,
   "id": "d4dc19a4",
   "metadata": {},
   "outputs": [
    {
     "name": "stdout",
     "output_type": "stream",
     "text": [
      "Requirement already satisfied: requests in c:\\programdata\\anaconda3\\lib\\site-packages (2.26.0)\n",
      "Requirement already satisfied: charset-normalizer~=2.0.0 in c:\\programdata\\anaconda3\\lib\\site-packages (from requests) (2.0.4)\n",
      "Requirement already satisfied: urllib3<1.27,>=1.21.1 in c:\\programdata\\anaconda3\\lib\\site-packages (from requests) (1.26.7)\n",
      "Requirement already satisfied: certifi>=2017.4.17 in c:\\programdata\\anaconda3\\lib\\site-packages (from requests) (2021.10.8)\n",
      "Requirement already satisfied: idna<4,>=2.5 in c:\\programdata\\anaconda3\\lib\\site-packages (from requests) (3.2)\n"
     ]
    }
   ],
   "source": [
    "!pip install requests"
   ]
  },
  {
   "cell_type": "code",
   "execution_count": 2,
   "id": "f1681245",
   "metadata": {},
   "outputs": [],
   "source": [
    "import requests\n",
    "import matplotlib.pyplot as plt"
   ]
  },
  {
   "cell_type": "code",
   "execution_count": 3,
   "id": "4aabb670",
   "metadata": {},
   "outputs": [
    {
     "data": {
      "text/plain": [
       "<Response [200]>"
      ]
     },
     "execution_count": 3,
     "metadata": {},
     "output_type": "execute_result"
    }
   ],
   "source": [
    "# Сформируем URL для доступа к сервису\n",
    "url = 'http://127.0.0.1:5000/num/10'\n",
    "# Вызовем сервис\n",
    "r = requests.get(url)\n",
    "r"
   ]
  },
  {
   "cell_type": "markdown",
   "id": "74d3781a",
   "metadata": {},
   "source": [
    "200 - это успешный статус выполнения HTTP-запроса"
   ]
  },
  {
   "cell_type": "code",
   "execution_count": 4,
   "id": "225b5b87",
   "metadata": {},
   "outputs": [
    {
     "data": {
      "text/plain": [
       "([1, 1, 2, 3, 5, 8, 13, 21, 34, 55], list)"
      ]
     },
     "execution_count": 4,
     "metadata": {},
     "output_type": "execute_result"
    }
   ],
   "source": [
    "data = r.json()\n",
    "data, type(data)"
   ]
  },
  {
   "cell_type": "code",
   "execution_count": 5,
   "id": "37d5243c",
   "metadata": {},
   "outputs": [],
   "source": [
    "# Функции для выполнения запроса к сервису\n",
    "\n",
    "def make_url(cnt):\n",
    "    base_url = 'http://127.0.0.1:5000/num/'\n",
    "    res = base_url + str(cnt)\n",
    "    return res\n",
    "\n",
    "def get_data(cnt):\n",
    "    url = make_url(cnt)\n",
    "    r = requests.get(url)\n",
    "    return r.json()"
   ]
  },
  {
   "cell_type": "code",
   "execution_count": 6,
   "id": "7bc905f3",
   "metadata": {},
   "outputs": [
    {
     "name": "stdout",
     "output_type": "stream",
     "text": [
      "5 первых чисел последовательности Фибоначчи: [1, 1, 2, 3, 5]\n",
      "10 первых чисел последовательности Фибоначчи: [1, 1, 2, 3, 5, 8, 13, 21, 34, 55]\n",
      "15 первых чисел последовательности Фибоначчи: [1, 1, 2, 3, 5, 8, 13, 21, 34, 55, 89, 144, 233, 377, 610]\n",
      "20 первых чисел последовательности Фибоначчи: [1, 1, 2, 3, 5, 8, 13, 21, 34, 55, 89, 144, 233, 377, 610, 987, 1597, 2584, 4181, 6765]\n"
     ]
    }
   ],
   "source": [
    "cnt_list = [5, 10, 15, 20]\n",
    "for cnt in cnt_list:\n",
    "    print('{} первых чисел последовательности Фибоначчи: {}'.format(cnt, get_data(cnt)))"
   ]
  },
  {
   "cell_type": "markdown",
   "id": "7eef112e",
   "metadata": {},
   "source": [
    "## Построение графика"
   ]
  },
  {
   "cell_type": "code",
   "execution_count": 7,
   "id": "e2a2b95f",
   "metadata": {},
   "outputs": [],
   "source": [
    "# Данные для графика\n",
    "y_10 = get_data(10)\n",
    "x_10 = list(range(1, len(y_10)+1))"
   ]
  },
  {
   "cell_type": "code",
   "execution_count": 8,
   "id": "d026be4c",
   "metadata": {},
   "outputs": [
    {
     "data": {
      "text/plain": [
       "[1, 2, 3, 4, 5, 6, 7, 8, 9, 10]"
      ]
     },
     "execution_count": 8,
     "metadata": {},
     "output_type": "execute_result"
    }
   ],
   "source": [
    "# Ось абсцисс - порядковые номера чисел\n",
    "x_10"
   ]
  },
  {
   "cell_type": "code",
   "execution_count": 9,
   "id": "d9af0c18",
   "metadata": {},
   "outputs": [
    {
     "data": {
      "text/plain": [
       "[1, 1, 2, 3, 5, 8, 13, 21, 34, 55]"
      ]
     },
     "execution_count": 9,
     "metadata": {},
     "output_type": "execute_result"
    }
   ],
   "source": [
    "# Ось ординат - числа\n",
    "y_10"
   ]
  },
  {
   "cell_type": "code",
   "execution_count": 10,
   "id": "85f998bd",
   "metadata": {},
   "outputs": [
    {
     "data": {
      "image/png": "[encoded data removed]",
      "text/plain": [
       "<Figure size 720x360 with 1 Axes>"
      ]
     },
     "metadata": {
      "needs_background": "light"
     },
     "output_type": "display_data"
    }
   ],
   "source": [
    "fig = plt.figure(figsize = (10, 5))\n",
    "plt.bar(x_10, y_10)\n",
    "plt.xlabel('Ось абсцисс')\n",
    "plt.ylabel('Ось ординат')\n",
    "plt.title('Первые {} чисел последовательности Фибоначчи'.format(len(y_10)))\n",
    "plt.show()"
   ]
  },
  {
   "cell_type": "code",
   "execution_count": 11,
   "id": "b0b6e033",
   "metadata": {},
   "outputs": [
    {
     "data": {
      "image/png": "[encoded data removed]",
      "text/plain": [
       "<Figure size 720x360 with 1 Axes>"
      ]
     },
     "metadata": {
      "needs_background": "light"
     },
     "output_type": "display_data"
    }
   ],
   "source": [
    "fig = plt.figure(figsize = (10, 5))\n",
    "plt.plot(x_10, y_10)\n",
    "plt.show()"
   ]
  },
  {
   "cell_type": "code",
   "execution_count": null,
   "id": "87040994",
   "metadata": {},
   "outputs": [],
   "source": []
  }
 ],
 "metadata": {
  "kernelspec": {
   "display_name": "Python 3 (ipykernel)",
   "language": "python",
   "name": "python3"
  },
  "language_info": {
   "codemirror_mode": {
    "name": "ipython",
    "version": 3
   },
   "file_extension": ".py",
   "mimetype": "text/x-python",
   "name": "python",
   "nbconvert_exporter": "python",
   "pygments_lexer": "ipython3",
   "version": "3.9.7"
  },
  "toc": {
   "base_numbering": 1,
   "nav_menu": {},
   "number_sections": true,
   "sideBar": true,
   "skip_h1_title": false,
   "title_cell": "Table of Contents",
   "title_sidebar": "Contents",
   "toc_cell": false,
   "toc_position": {},
   "toc_section_display": true,
   "toc_window_display": false
  }
 },
 "nbformat": 4,
 "nbformat_minor": 5
}
