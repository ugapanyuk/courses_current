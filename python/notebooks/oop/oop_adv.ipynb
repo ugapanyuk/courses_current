{
 "cells": [
  {
   "cell_type": "markdown",
   "metadata": {},
   "source": [
    "# Расширенные возможности объектно-ориентированного  программирования в Python.\n",
    "\n",
    "[Документация.](https://docs.python.org/3/tutorial/classes.html)"
   ]
  },
  {
   "cell_type": "markdown",
   "metadata": {},
   "source": [
    "## Класс как словарь"
   ]
  },
  {
   "cell_type": "code",
   "execution_count": 1,
   "metadata": {},
   "outputs": [],
   "source": [
    "class TestStructure:\n",
    "    \n",
    "    class_var = 1\n",
    "    \n",
    "    def __init__(self):\n",
    "        # Приватное поле\n",
    "        self.__n = 100\n",
    "        self.k = 1000"
   ]
  },
  {
   "cell_type": "code",
   "execution_count": 2,
   "metadata": {},
   "outputs": [],
   "source": [
    "test1 = TestStructure()"
   ]
  },
  {
   "cell_type": "code",
   "execution_count": 3,
   "metadata": {},
   "outputs": [
    {
     "data": {
      "text/plain": [
       "{'_TestStructure__n': 100, 'k': 1000}"
      ]
     },
     "execution_count": 3,
     "metadata": {},
     "output_type": "execute_result"
    }
   ],
   "source": [
    "# Содержимое объекта как словарь\n",
    "# Имя '_TestStructure__n' результат изменения имени\n",
    "test1.__dict__"
   ]
  },
  {
   "cell_type": "code",
   "execution_count": 4,
   "metadata": {},
   "outputs": [
    {
     "data": {
      "text/plain": [
       "__main__.TestStructure"
      ]
     },
     "execution_count": 4,
     "metadata": {},
     "output_type": "execute_result"
    }
   ],
   "source": [
    "test1.__class__"
   ]
  },
  {
   "cell_type": "code",
   "execution_count": 5,
   "metadata": {},
   "outputs": [
    {
     "data": {
      "text/plain": [
       "mappingproxy({'__module__': '__main__',\n",
       "              'class_var': 1,\n",
       "              '__init__': <function __main__.TestStructure.__init__(self)>,\n",
       "              '__dict__': <attribute '__dict__' of 'TestStructure' objects>,\n",
       "              '__weakref__': <attribute '__weakref__' of 'TestStructure' objects>,\n",
       "              '__doc__': None})"
      ]
     },
     "execution_count": 5,
     "metadata": {},
     "output_type": "execute_result"
    }
   ],
   "source": [
    "TestStructure.__dict__"
   ]
  },
  {
   "cell_type": "code",
   "execution_count": 6,
   "metadata": {},
   "outputs": [
    {
     "data": {
      "text/plain": [
       "'TestStructure'"
      ]
     },
     "execution_count": 6,
     "metadata": {},
     "output_type": "execute_result"
    }
   ],
   "source": [
    "TestStructure.__name__"
   ]
  },
  {
   "cell_type": "code",
   "execution_count": 7,
   "metadata": {},
   "outputs": [],
   "source": [
    "# При изменении переменной класса\n",
    "# изменяется ее значение во всех объектах\n",
    "test2 = TestStructure()\n"
   ]
  },
  {
   "cell_type": "code",
   "execution_count": 8,
   "metadata": {},
   "outputs": [
    {
     "data": {
      "text/plain": [
       "{'_TestStructure__n': 100, 'k': 1000}"
      ]
     },
     "execution_count": 8,
     "metadata": {},
     "output_type": "execute_result"
    }
   ],
   "source": [
    "test2.__dict__"
   ]
  },
  {
   "cell_type": "code",
   "execution_count": 9,
   "metadata": {},
   "outputs": [
    {
     "data": {
      "text/plain": [
       "(2785718091536, 2785718091536)"
      ]
     },
     "execution_count": 9,
     "metadata": {},
     "output_type": "execute_result"
    }
   ],
   "source": [
    "TestStructure.class_var = 333\n",
    "# Оба объекта ссылаются на одинаковый адрес переменной класса\n",
    "id(test1.class_var), id(test2.class_var)"
   ]
  },
  {
   "cell_type": "code",
   "execution_count": 10,
   "metadata": {},
   "outputs": [
    {
     "data": {
      "text/plain": [
       "333"
      ]
     },
     "execution_count": 10,
     "metadata": {},
     "output_type": "execute_result"
    }
   ],
   "source": [
    "test1.class_var"
   ]
  },
  {
   "cell_type": "code",
   "execution_count": 53,
   "metadata": {},
   "outputs": [
    {
     "data": {
      "text/plain": [
       "333"
      ]
     },
     "execution_count": 53,
     "metadata": {},
     "output_type": "execute_result"
    }
   ],
   "source": [
    "test2.class_var"
   ]
  },
  {
   "cell_type": "markdown",
   "metadata": {},
   "source": [
    "## Виды методов, вызов конструкторов и методов базовых классов"
   ]
  },
  {
   "cell_type": "code",
   "execution_count": 11,
   "metadata": {},
   "outputs": [],
   "source": [
    "class TestMethod:\n",
    "    '''Базовый класс'''\n",
    "    \n",
    "    def __init__(self):\n",
    "        print('TestMethod constructor call')\n",
    "    \n",
    "    def instance_method(self, p):\n",
    "        '''Обычный метод объекта'''\n",
    "        print('TestMethod instance_method call with param {}'.format(p))\n",
    "        return p\n",
    "    \n",
    "    @classmethod\n",
    "    def class_method(cls, p):\n",
    "        '''\n",
    "        Метод класса в качестве первого параметра \n",
    "        получает ссылку на класс. \n",
    "        Именно эта конструкция больше всего похожа\n",
    "        на статические методы в других языках.\n",
    "        '''\n",
    "        print('{} class_method call with param {}'.format(cls.__name__, p))\n",
    "        return p    \n",
    "    \n",
    "    @staticmethod\n",
    "    def static_method(p):\n",
    "        '''\n",
    "        Статические методы в Python\n",
    "        вообще не связаны с классом\n",
    "        '''\n",
    "        print('TestMethod static_method call with param {}'.format(p))\n",
    "        return p\n",
    "        \n",
    "    \n",
    "class TestMethodExt(TestMethod):   \n",
    "    \"\"\"Наследуемый класс\"\"\"\n",
    "    \n",
    "    def __init__(self):\n",
    "        super().__init__()\n",
    "        print('TestMethodExt constructor call')\n",
    "        \n",
    "    def instance_method(self, p):\n",
    "        \"\"\"Расширение метода базового класса позволяет избежать дублирования кода\"\"\"\n",
    "        super().instance_method(p)\n",
    "        print('TestMethodExt instance_method call with param {}'.format(p))\n",
    "        return p\n",
    "    \n",
    "    def example_method(self, a, b, c=1, d='строка'):\n",
    "        \"\"\"Это строка документации\"\"\"\n",
    "        return a+b\n",
    "        \n",
    "    def example_method_2(self, a, b, *, c=1, d='строка'):\n",
    "        \"\"\"Это строка документации\"\"\"\n",
    "        return a+b        \n",
    "        "
   ]
  },
  {
   "cell_type": "code",
   "execution_count": 12,
   "metadata": {},
   "outputs": [
    {
     "name": "stdout",
     "output_type": "stream",
     "text": [
      "TestMethod constructor call\n"
     ]
    }
   ],
   "source": [
    "tm1 = TestMethod()"
   ]
  },
  {
   "cell_type": "code",
   "execution_count": 13,
   "metadata": {},
   "outputs": [
    {
     "data": {
      "text/plain": [
       "'Базовый класс'"
      ]
     },
     "execution_count": 13,
     "metadata": {},
     "output_type": "execute_result"
    }
   ],
   "source": [
    "tm1.__doc__"
   ]
  },
  {
   "cell_type": "code",
   "execution_count": 14,
   "metadata": {},
   "outputs": [
    {
     "name": "stdout",
     "output_type": "stream",
     "text": [
      "TestMethod instance_method call with param 1\n"
     ]
    },
    {
     "data": {
      "text/plain": [
       "1"
      ]
     },
     "execution_count": 14,
     "metadata": {},
     "output_type": "execute_result"
    }
   ],
   "source": [
    "# Два способа вызова метода\n",
    "TestMethod.instance_method(tm1, 1)"
   ]
  },
  {
   "cell_type": "code",
   "execution_count": 15,
   "metadata": {},
   "outputs": [
    {
     "name": "stdout",
     "output_type": "stream",
     "text": [
      "TestMethod instance_method call with param 2\n"
     ]
    },
    {
     "data": {
      "text/plain": [
       "2"
      ]
     },
     "execution_count": 15,
     "metadata": {},
     "output_type": "execute_result"
    }
   ],
   "source": [
    "tm1.instance_method(2)"
   ]
  },
  {
   "cell_type": "code",
   "execution_count": 16,
   "metadata": {},
   "outputs": [
    {
     "name": "stdout",
     "output_type": "stream",
     "text": [
      "TestMethod static_method call with param 333\n"
     ]
    },
    {
     "data": {
      "text/plain": [
       "333"
      ]
     },
     "execution_count": 16,
     "metadata": {},
     "output_type": "execute_result"
    }
   ],
   "source": [
    "TestMethod.static_method(333)"
   ]
  },
  {
   "cell_type": "code",
   "execution_count": 17,
   "metadata": {},
   "outputs": [
    {
     "name": "stdout",
     "output_type": "stream",
     "text": [
      "TestMethod class_method call with param 333\n"
     ]
    },
    {
     "data": {
      "text/plain": [
       "333"
      ]
     },
     "execution_count": 17,
     "metadata": {},
     "output_type": "execute_result"
    }
   ],
   "source": [
    "TestMethod.class_method(333)"
   ]
  },
  {
   "cell_type": "code",
   "execution_count": 18,
   "metadata": {},
   "outputs": [
    {
     "name": "stdout",
     "output_type": "stream",
     "text": [
      "TestMethod constructor call\n",
      "TestMethodExt constructor call\n"
     ]
    }
   ],
   "source": [
    "te1 = TestMethodExt()"
   ]
  },
  {
   "cell_type": "code",
   "execution_count": 19,
   "metadata": {},
   "outputs": [
    {
     "name": "stdout",
     "output_type": "stream",
     "text": [
      "TestMethod instance_method call with param 3\n",
      "TestMethodExt instance_method call with param 3\n"
     ]
    },
    {
     "data": {
      "text/plain": [
       "3"
      ]
     },
     "execution_count": 19,
     "metadata": {},
     "output_type": "execute_result"
    }
   ],
   "source": [
    "te1.instance_method(3)"
   ]
  },
  {
   "cell_type": "code",
   "execution_count": 20,
   "metadata": {},
   "outputs": [
    {
     "data": {
      "text/plain": [
       "'Наследуемый класс'"
      ]
     },
     "execution_count": 20,
     "metadata": {},
     "output_type": "execute_result"
    }
   ],
   "source": [
    "# Примеры получения doc-строки для класса и метода\n",
    "te1.__doc__"
   ]
  },
  {
   "cell_type": "code",
   "execution_count": 21,
   "metadata": {},
   "outputs": [
    {
     "data": {
      "text/plain": [
       "'Расширение метода базового класса позволяет избежать дублирования кода'"
      ]
     },
     "execution_count": 21,
     "metadata": {},
     "output_type": "execute_result"
    }
   ],
   "source": [
    "te1.instance_method.__doc__"
   ]
  },
  {
   "cell_type": "code",
   "execution_count": 22,
   "metadata": {},
   "outputs": [
    {
     "data": {
      "text/plain": [
       "'Это строка документации'"
      ]
     },
     "execution_count": 22,
     "metadata": {},
     "output_type": "execute_result"
    }
   ],
   "source": [
    "te1.example_method.__doc__"
   ]
  },
  {
   "cell_type": "code",
   "execution_count": 23,
   "metadata": {},
   "outputs": [
    {
     "data": {
      "text/plain": [
       "(1, 'строка')"
      ]
     },
     "execution_count": 23,
     "metadata": {},
     "output_type": "execute_result"
    }
   ],
   "source": [
    "# Параметры по умолчанию\n",
    "te1.example_method.__defaults__"
   ]
  },
  {
   "cell_type": "code",
   "execution_count": 24,
   "metadata": {},
   "outputs": [
    {
     "data": {
      "text/plain": [
       "{'c': 1, 'd': 'строка'}"
      ]
     },
     "execution_count": 24,
     "metadata": {},
     "output_type": "execute_result"
    }
   ],
   "source": [
    "# Параметры по умолчанию только для kwargs\n",
    "te1.example_method_2.__kwdefaults__"
   ]
  },
  {
   "cell_type": "code",
   "execution_count": 25,
   "metadata": {},
   "outputs": [
    {
     "data": {
      "text/plain": [
       "b'|\\x01|\\x02\\x17\\x00S\\x00'"
      ]
     },
     "execution_count": 25,
     "metadata": {},
     "output_type": "execute_result"
    }
   ],
   "source": [
    "# Строка байт-кода\n",
    "te1.example_method.__code__.co_code"
   ]
  },
  {
   "cell_type": "markdown",
   "metadata": {},
   "source": [
    "#### Список специальных атрибутов\n",
    "\n",
    "[Документация.](https://docs.python.org/3/library/inspect.html)"
   ]
  },
  {
   "cell_type": "markdown",
   "metadata": {},
   "source": [
    "#### Дизассемблирование кода\n",
    "\n",
    "[Документация.](https://docs.python.org/3/library/dis.html)"
   ]
  },
  {
   "cell_type": "code",
   "execution_count": 26,
   "metadata": {},
   "outputs": [],
   "source": [
    "import dis"
   ]
  },
  {
   "cell_type": "code",
   "execution_count": 27,
   "metadata": {},
   "outputs": [
    {
     "name": "stdout",
     "output_type": "stream",
     "text": [
      "          0 LOAD_FAST                1 (1)\n",
      "          2 LOAD_FAST                2 (2)\n",
      "          4 BINARY_ADD\n",
      "          6 RETURN_VALUE\n"
     ]
    }
   ],
   "source": [
    "dis.dis(te1.example_method.__code__.co_code)"
   ]
  },
  {
   "cell_type": "code",
   "execution_count": 28,
   "metadata": {},
   "outputs": [
    {
     "name": "stdout",
     "output_type": "stream",
     "text": [
      " 48           0 LOAD_FAST                1 (a)\n",
      "              2 LOAD_FAST                2 (b)\n",
      "              4 BINARY_ADD\n",
      "              6 RETURN_VALUE\n"
     ]
    }
   ],
   "source": [
    "# 48 - номер строки\n",
    "dis.dis(te1.example_method)"
   ]
  },
  {
   "cell_type": "code",
   "execution_count": null,
   "metadata": {},
   "outputs": [],
   "source": []
  },
  {
   "cell_type": "markdown",
   "metadata": {},
   "source": [
    "## Аннотации типов\n",
    "\n",
    "[Документация.](https://docs.python.org/3/library/typing.html)\n",
    "\n",
    "[Linter.](https://ru.wikipedia.org/wiki/Lint)\n",
    "\n",
    "[Pylint.](https://www.pylint.org/)\n",
    "\n",
    "- [Интеграция с PyCharm.](https://coderoad.ru/38134086/%D0%9A%D0%B0%D0%BA-%D0%B7%D0%B0%D0%BF%D1%83%D1%81%D1%82%D0%B8%D1%82%D1%8C-Pylint-%D1%81-PyCharm)\n",
    "\n",
    "- [Интеграция с Visual Studio Code.](https://code.visualstudio.com/docs/python/linting)\n",
    "\n",
    "- [Пример использования в Visual Studio.](https://docs.microsoft.com/ru-ru/visualstudio/python/linting-python-code?view=vs-2019)"
   ]
  },
  {
   "cell_type": "code",
   "execution_count": 54,
   "metadata": {},
   "outputs": [],
   "source": [
    "def test_func_1(a:int, b:float) -> str:\n",
    "    return str(a+b)"
   ]
  },
  {
   "cell_type": "code",
   "execution_count": 30,
   "metadata": {},
   "outputs": [
    {
     "data": {
      "text/plain": [
       "{'a': int, 'b': float, 'return': str}"
      ]
     },
     "execution_count": 30,
     "metadata": {},
     "output_type": "execute_result"
    }
   ],
   "source": [
    "# Получение аннотаций типов\n",
    "test_func_1.__annotations__"
   ]
  },
  {
   "cell_type": "code",
   "execution_count": 31,
   "metadata": {},
   "outputs": [],
   "source": [
    "# Свойство функции\n",
    "test_func_1.custom_property = 333"
   ]
  },
  {
   "cell_type": "code",
   "execution_count": 32,
   "metadata": {},
   "outputs": [
    {
     "data": {
      "text/plain": [
       "'101.1'"
      ]
     },
     "execution_count": 32,
     "metadata": {},
     "output_type": "execute_result"
    }
   ],
   "source": [
    "test_func_1(100, 1.1)"
   ]
  },
  {
   "cell_type": "code",
   "execution_count": 33,
   "metadata": {},
   "outputs": [
    {
     "data": {
      "text/plain": [
       "333"
      ]
     },
     "execution_count": 33,
     "metadata": {},
     "output_type": "execute_result"
    }
   ],
   "source": [
    "test_func_1.custom_property"
   ]
  },
  {
   "cell_type": "code",
   "execution_count": null,
   "metadata": {},
   "outputs": [],
   "source": []
  },
  {
   "cell_type": "markdown",
   "metadata": {},
   "source": [
    "## Абстрактные классы"
   ]
  },
  {
   "cell_type": "code",
   "execution_count": 34,
   "metadata": {},
   "outputs": [],
   "source": [
    "from abc import ABC, abstractmethod"
   ]
  },
  {
   "cell_type": "code",
   "execution_count": 35,
   "metadata": {},
   "outputs": [],
   "source": [
    "class Figure(ABC):\n",
    "    \"\"\"\n",
    "    Абстрактный класс «Геометрическая фигура»\n",
    "    \"\"\"\n",
    "    @abstractmethod\n",
    "    def square(self):\n",
    "        \"\"\"\n",
    "        содержит виртуальный метод для вычисления площади фигуры.\n",
    "        \"\"\"\n",
    "        pass"
   ]
  },
  {
   "cell_type": "code",
   "execution_count": 36,
   "metadata": {},
   "outputs": [],
   "source": [
    "# ОШИБКА\n",
    "# TypeError: Can't instantiate \n",
    "# abstract class Figure \n",
    "#with abstract methods square\n",
    "\n",
    "#f = Figure()"
   ]
  },
  {
   "cell_type": "code",
   "execution_count": null,
   "metadata": {},
   "outputs": [],
   "source": []
  },
  {
   "cell_type": "markdown",
   "metadata": {},
   "source": [
    "## Свойства\n",
    "\n",
    "[Документация.](https://docs.python.org/3/library/functions.html#property)"
   ]
  },
  {
   "cell_type": "code",
   "execution_count": null,
   "metadata": {},
   "outputs": [],
   "source": []
  },
  {
   "cell_type": "markdown",
   "metadata": {},
   "source": [
    "## Множественное и ромбовидное наследование"
   ]
  },
  {
   "cell_type": "markdown",
   "metadata": {},
   "source": [
    "Порядок поиска методов при наследовании называется MRO (method resolution order). [Оригинальный документ](https://www.python.org/download/releases/2.3/mro/) с описанием метода. На русском языке описан в [статье.](https://otus.ru/nest/post/165/)"
   ]
  },
  {
   "cell_type": "code",
   "execution_count": 37,
   "metadata": {},
   "outputs": [
    {
     "name": "stdout",
     "output_type": "stream",
     "text": [
      "A\n",
      "C\n",
      "B\n",
      "D_1\n",
      "Класс D_1 наследуется от классов:\n",
      "(<class '__main__.Diamond1.B'>, <class '__main__.Diamond1.C'>)\n",
      "method1 from class B\n",
      "\n",
      "A\n",
      "B\n",
      "C\n",
      "D_2\n",
      "Класс D_2 наследуется от классов:\n",
      "(<class '__main__.Diamond1.C'>, <class '__main__.Diamond1.B'>)\n",
      "method1 from class C\n"
     ]
    }
   ],
   "source": [
    "# Пример с ромбовидным наследованием\n",
    "# и вызовом super()\n",
    "class Diamond1:\n",
    "    \n",
    "    class A (object):\n",
    "        def __init__ (self):\n",
    "            super().__init__()\n",
    "            print('A')\n",
    "            \n",
    "        def method1(self):\n",
    "            print('method1 from class A')\n",
    "\n",
    "\n",
    "    class B (A):\n",
    "        def __init__ (self):\n",
    "            super().__init__()\n",
    "            print('B')\n",
    "\n",
    "        def method1(self):\n",
    "            print('method1 from class B')\n",
    "            \n",
    "            \n",
    "    class C (A):\n",
    "        def __init__ (self):\n",
    "            super().__init__()\n",
    "            print('C')\n",
    "            \n",
    "        def method1(self):\n",
    "            print('method1 from class C')\n",
    "            \n",
    "\n",
    "    class D_1 (B, C):\n",
    "        def __init__ (self):\n",
    "            super().__init__()\n",
    "            print('D_1')    \n",
    "\n",
    "\n",
    "    class D_2 (C, B):\n",
    "        def __init__ (self):\n",
    "            super().__init__()\n",
    "            print('D_2')    \n",
    "            \n",
    "           \n",
    "    d1 = D_1()\n",
    "    print('Класс D_1 наследуется от классов:')\n",
    "    print(D_1.__bases__)\n",
    "    d1.method1()\n",
    "    \n",
    "    print()\n",
    "    \n",
    "    d2 = D_2()\n",
    "    print('Класс D_2 наследуется от классов:')\n",
    "    print(D_2.__bases__)\n",
    "    d2.method1()"
   ]
  },
  {
   "cell_type": "code",
   "execution_count": 38,
   "metadata": {},
   "outputs": [
    {
     "name": "stdout",
     "output_type": "stream",
     "text": [
      "A2\n",
      "B2\n",
      "A2\n",
      "C2\n",
      "D2\n"
     ]
    }
   ],
   "source": [
    "# Пример с ромбовидным наследованием\n",
    "# и прямым вызовом классов по именам\n",
    "\n",
    "# Конструктор базового класса вызывается дважды \n",
    "\n",
    "class A2 (object):\n",
    "    def __init__ (self):\n",
    "        print('A2')\n",
    "\n",
    "class B2 (A2):\n",
    "    def __init__ (self):\n",
    "        A2.__init__(self)\n",
    "        print('B2')\n",
    "\n",
    "class C2 (A2):\n",
    "    def __init__ (self):\n",
    "        A2.__init__(self)\n",
    "        print('C2')\n",
    "\n",
    "class D2 (C2, B2):\n",
    "    def __init__ (self):\n",
    "        B2.__init__(self)\n",
    "        C2.__init__(self)\n",
    "        print('D2')\n",
    "\n",
    "d2 = D2()"
   ]
  },
  {
   "cell_type": "code",
   "execution_count": null,
   "metadata": {},
   "outputs": [],
   "source": []
  },
  {
   "cell_type": "markdown",
   "metadata": {},
   "source": [
    "## Классы данных (записи)"
   ]
  },
  {
   "cell_type": "code",
   "execution_count": 39,
   "metadata": {},
   "outputs": [],
   "source": [
    "class data1: pass\n",
    "data1.a = 1\n",
    "data1.b = 2\n",
    "data1.c = 3"
   ]
  },
  {
   "cell_type": "code",
   "execution_count": 40,
   "metadata": {},
   "outputs": [
    {
     "data": {
      "text/plain": [
       "(1, 2, 3)"
      ]
     },
     "execution_count": 40,
     "metadata": {},
     "output_type": "execute_result"
    }
   ],
   "source": [
    "# Статические переменные класса\n",
    "data1.a, data1.b, data1.c"
   ]
  },
  {
   "cell_type": "code",
   "execution_count": 41,
   "metadata": {},
   "outputs": [
    {
     "data": {
      "text/plain": [
       "mappingproxy({'__module__': '__main__',\n",
       "              '__dict__': <attribute '__dict__' of 'data1' objects>,\n",
       "              '__weakref__': <attribute '__weakref__' of 'data1' objects>,\n",
       "              '__doc__': None,\n",
       "              'a': 1,\n",
       "              'b': 2,\n",
       "              'c': 3})"
      ]
     },
     "execution_count": 41,
     "metadata": {},
     "output_type": "execute_result"
    }
   ],
   "source": [
    "data1.__dict__"
   ]
  },
  {
   "cell_type": "code",
   "execution_count": 42,
   "metadata": {},
   "outputs": [],
   "source": [
    "d1 = data1()\n",
    "d1.a = 11\n",
    "d1.b = 22"
   ]
  },
  {
   "cell_type": "code",
   "execution_count": 43,
   "metadata": {},
   "outputs": [
    {
     "data": {
      "text/plain": [
       "{'a': 11, 'b': 22}"
      ]
     },
     "execution_count": 43,
     "metadata": {},
     "output_type": "execute_result"
    }
   ],
   "source": [
    "d1.__dict__"
   ]
  },
  {
   "cell_type": "code",
   "execution_count": 44,
   "metadata": {},
   "outputs": [
    {
     "data": {
      "text/plain": [
       "(11, 22, 3)"
      ]
     },
     "execution_count": 44,
     "metadata": {},
     "output_type": "execute_result"
    }
   ],
   "source": [
    "# d1.c - переменная класса\n",
    "d1.a, d1.b, d1.c"
   ]
  },
  {
   "cell_type": "code",
   "execution_count": null,
   "metadata": {},
   "outputs": [],
   "source": []
  },
  {
   "cell_type": "markdown",
   "metadata": {},
   "source": [
    "## Перегрузка операторов\n",
    "\n",
    "Реализована в Python с использованием служебных методов. Полный список методов приведен в [документации.](https://docs.python.org/3/reference/datamodel.html#special-method-names)"
   ]
  },
  {
   "cell_type": "code",
   "execution_count": 45,
   "metadata": {},
   "outputs": [],
   "source": [
    "class Num:\n",
    "    def __init__(self, n):\n",
    "        self.__n = n\n",
    "\n",
    "    def get_number(self):\n",
    "        return self.__n\n",
    "        \n",
    "    def __add__(self, other):\n",
    "        result = Num(self.get_number() + other.get_number())\n",
    "        return result\n",
    "    \n",
    "    def __str__(self):\n",
    "        return 'STR: {}'.format(self.get_number())\n",
    "    \n",
    "    def __repr__(self):\n",
    "        return 'REPR: ' + self.__str__()"
   ]
  },
  {
   "cell_type": "code",
   "execution_count": 46,
   "metadata": {},
   "outputs": [
    {
     "data": {
      "text/plain": [
       "'STR: 3'"
      ]
     },
     "execution_count": 46,
     "metadata": {},
     "output_type": "execute_result"
    }
   ],
   "source": [
    "str(Num(1) + Num(2))"
   ]
  },
  {
   "cell_type": "code",
   "execution_count": 47,
   "metadata": {},
   "outputs": [
    {
     "data": {
      "text/plain": [
       "REPR: STR: 3"
      ]
     },
     "execution_count": 47,
     "metadata": {},
     "output_type": "execute_result"
    }
   ],
   "source": [
    "Num(1) + Num(2)"
   ]
  },
  {
   "cell_type": "code",
   "execution_count": 48,
   "metadata": {},
   "outputs": [
    {
     "data": {
      "text/plain": [
       "{'_Num__n': 1}"
      ]
     },
     "execution_count": 48,
     "metadata": {},
     "output_type": "execute_result"
    }
   ],
   "source": [
    "Num(1).__dict__"
   ]
  },
  {
   "cell_type": "code",
   "execution_count": null,
   "metadata": {},
   "outputs": [],
   "source": []
  },
  {
   "cell_type": "markdown",
   "metadata": {},
   "source": [
    "### Контроль доступа к элементам класса"
   ]
  },
  {
   "cell_type": "code",
   "execution_count": 49,
   "metadata": {},
   "outputs": [],
   "source": [
    "class Cls1:\n",
    "           \n",
    "    def __init__(self):\n",
    "        self.attr1 = 100\n",
    "        \n",
    "    def __getattr__(self, name):\n",
    "        print('getattr {}'.format(name))\n",
    "\n",
    "    def __setattr__(self, name, value):\n",
    "        print('setattr {} = {}'.format(name, value))\n",
    "        "
   ]
  },
  {
   "cell_type": "code",
   "execution_count": 50,
   "metadata": {},
   "outputs": [
    {
     "name": "stdout",
     "output_type": "stream",
     "text": [
      "setattr attr1 = 100\n",
      "setattr attr2 = 200\n"
     ]
    }
   ],
   "source": [
    "cls1 = Cls1()\n",
    "cls1.attr2 = 200"
   ]
  },
  {
   "cell_type": "code",
   "execution_count": 51,
   "metadata": {},
   "outputs": [
    {
     "name": "stdout",
     "output_type": "stream",
     "text": [
      "getattr attr1\n"
     ]
    }
   ],
   "source": [
    "cls1.attr1"
   ]
  },
  {
   "cell_type": "code",
   "execution_count": 52,
   "metadata": {},
   "outputs": [
    {
     "name": "stdout",
     "output_type": "stream",
     "text": [
      "getattr attr2\n"
     ]
    }
   ],
   "source": [
    "cls1.attr2"
   ]
  },
  {
   "cell_type": "code",
   "execution_count": null,
   "metadata": {},
   "outputs": [],
   "source": []
  }
 ],
 "metadata": {
  "kernelspec": {
   "display_name": "Python 3",
   "language": "python",
   "name": "python3"
  },
  "language_info": {
   "codemirror_mode": {
    "name": "ipython",
    "version": 3
   },
   "file_extension": ".py",
   "mimetype": "text/x-python",
   "name": "python",
   "nbconvert_exporter": "python",
   "pygments_lexer": "ipython3",
   "version": "3.8.5"
  },
  "toc": {
   "base_numbering": 1,
   "nav_menu": {},
   "number_sections": true,
   "sideBar": true,
   "skip_h1_title": false,
   "title_cell": "Table of Contents",
   "title_sidebar": "Contents",
   "toc_cell": false,
   "toc_position": {},
   "toc_section_display": true,
   "toc_window_display": false
  }
 },
 "nbformat": 4,
 "nbformat_minor": 4
}
